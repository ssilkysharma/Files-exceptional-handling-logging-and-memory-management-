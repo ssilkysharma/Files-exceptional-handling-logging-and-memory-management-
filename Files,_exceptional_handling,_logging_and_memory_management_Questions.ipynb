{
  "nbformat": 4,
  "nbformat_minor": 0,
  "metadata": {
    "colab": {
      "provenance": []
    },
    "kernelspec": {
      "name": "python3",
      "display_name": "Python 3"
    },
    "language_info": {
      "name": "python"
    }
  },
  "cells": [
    {
      "cell_type": "markdown",
      "source": [
        "Files, exceptional handling, logging and memory management Questions"
      ],
      "metadata": {
        "id": "JS9MvKbrZBdb"
      }
    },
    {
      "cell_type": "markdown",
      "source": [
        "1.1.\tWhat is the difference between interpreted and compiled languages?\n",
        "Ans: A compiled language is converted into machine code so that the processor can execute it. An interpreted language is a language in which the implementations execute instructions directly without earlier compiling a program into machine language.\n"
      ],
      "metadata": {
        "id": "eTdTNchPZG3M"
      }
    },
    {
      "cell_type": "markdown",
      "source": [
        "2.\t What is exception handling in Python?\n",
        "Ans: Exceptions are errors that occur at runtime when the program is being executed. They are usually caused by invalid user input or code that is invalid in Python. Exception handling allows the program to continue to execute even if an error occurs.\n"
      ],
      "metadata": {
        "id": "-OceAGJaZKaG"
      }
    },
    {
      "cell_type": "markdown",
      "source": [
        "3.\tWhat is the purpose of the finally block in exception handling?\n",
        "Ans: In Python, the finally keyword is used in a try-except-finally block to define a section of code that will always execute, regardless of whether an exception occurs or not. It guarantees predictable code behavior, maintaining program stability even when errors arise. By using finally, developers ensure that cleanup operations and essential tasks are consistently performed, promoting code reliability and readability.\n"
      ],
      "metadata": {
        "id": "iSDFjMfyZSZc"
      }
    },
    {
      "cell_type": "markdown",
      "source": [
        "4.\t What is logging in Python?\n",
        "Ans: Logging is a means of tracking events that happen when some software runs. The software's developer adds logging calls to their code to indicate that certain events have occurred.\n"
      ],
      "metadata": {
        "id": "CswFfo10ZVMb"
      }
    },
    {
      "cell_type": "markdown",
      "source": [
        "5.\t What is the significance of the __del__ method in Python?\n",
        "Ans: The __del__ method in Python is a powerful tool for managing resource cleanup when objects are destroyed. It allows you to define specific actions that should be taken when an object is garbage collected, such as closing files, releasing locks, or closing network connections.\n"
      ],
      "metadata": {
        "id": "7Ku5-wOEZa2t"
      }
    },
    {
      "cell_type": "markdown",
      "source": [
        "6.\t What is the difference between import and from ... import in Python?\n",
        "Ans: The difference between import and from import in Python is: import imports an entire code library. from import imports a specific member or members of the library.\n"
      ],
      "metadata": {
        "id": "z4S_5PNiZcom"
      }
    },
    {
      "cell_type": "markdown",
      "source": [
        "7.\t How can you handle multiple exceptions in Python?Ans: Improved program reliability: By handling exceptions properly, you can prevent your program from crashing or producing incorrect results due to unexpected errors or input.\n",
        "Simplified error handling: Exception handling allows you to separate error handling code from the main program logic, making it easier to read and maintain your code.\n",
        "Cleaner code: With exception handling, you can avoid using complex conditional statements to check for errors, leading to cleaner and more readable code.\n",
        "Easier debugging: When an exception is raised, the Python interpreter prints a traceback that shows the exact location where the exception occurred, making it easier to debug your code.\n",
        "\n"
      ],
      "metadata": {
        "id": "J-f4kzXCZep0"
      }
    },
    {
      "cell_type": "code",
      "source": [
        "a = [\"10\", \"twenty\", 30]   # Mixed list of integers and strings\n",
        "try:\n",
        "    total = int(a[0]) + int(a[1]) # 'twenty' cannot be converted to int\n",
        "\n",
        "except (ValueError, TypeError) as e:\n",
        "    print(\"Error\", e)\n",
        "\n",
        "except IndexError:\n",
        "    print(\"Index out of range.\")"
      ],
      "metadata": {
        "colab": {
          "base_uri": "https://localhost:8080/"
        },
        "id": "6aF20FJiZmk9",
        "outputId": "2b985c0c-9678-4124-e41a-1625b4a6c022"
      },
      "execution_count": 1,
      "outputs": [
        {
          "output_type": "stream",
          "name": "stdout",
          "text": [
            "Error invalid literal for int() with base 10: 'twenty'\n"
          ]
        }
      ]
    },
    {
      "cell_type": "markdown",
      "source": [
        "8.\t What is the purpose of the with statement when handling files in Python?\n",
        "Ans: Simplifies Resource Management: with statement ensures that resources are properly acquired and released, reducing the likelihood of resource leaks.\n",
        "•\tReplaces Try-Except-Finally Blocks: Traditionally, resource management required try-except-finally blocks to handle exceptions and ensure proper cleanup. The with statement provides a more concise alternative.\n",
        "•\tEnhances Readability: By reducing boilerplate code, the with statement improves code readability and maintainability.\n"
      ],
      "metadata": {
        "id": "dtIFWHuvZpZR"
      }
    },
    {
      "cell_type": "markdown",
      "source": [
        "9.\tWhat is the difference between multithreading and multiprocessing?\n",
        "•\tAns: Multithreading is a technique where multiple threads are spawned by a process to do different tasks, at about the same time, just one after the other. This gives you the illusion that the threads are running in parallel, but they are actually,  run in a concurrent manner. In Python, the Global Interpreter Lock (GIL) prevents the threads from running simultaneously. Multiprocessing is a technique where parallelism in its truest form is achieved. Multiple processes are run across multiple CPU cores, which do not share the resources among them. Each process can have many threads running in its own memory space. In Python, each process has its own instance of Python interpreter doing the job of executing the instructions.\n"
      ],
      "metadata": {
        "id": "tjOajlDbZsZa"
      }
    },
    {
      "cell_type": "markdown",
      "source": [
        "10.\tWhat are the advantages of using logging in a program?\n",
        "Ans: Logging is important for software developing, debugging, and running. If you don't have any logging record and your program crashes, there are very few chances that you detect the cause of the problem. And if you detect the cause, it will consume a lot of time. With logging, you can leave a trail of breadcrumbs so that if something goes wrong, we can determine the cause of the problem.\n"
      ],
      "metadata": {
        "id": "zhioW5CSZvdE"
      }
    },
    {
      "cell_type": "markdown",
      "source": [
        "11.\t What is memory management in Python?\n",
        "Ans: Python memory management is the process of allocating and dealing with memory so that your programs can run efficiently. One advantage of Python, compared to other programming languages, is that it can perform memory management tasks automatically\n"
      ],
      "metadata": {
        "id": "U80Ksv_HZyH7"
      }
    },
    {
      "cell_type": "markdown",
      "source": [
        "12.\tWhat are the basic steps involved in exception handling in Python?\n",
        "Ans: In Python, exceptions are caught and handled using the 'try' and 'except' block. 'try' contains the code segment, which is susceptible to error, while 'except' is where the program should jump in case an exception occurs. You can use multiple 'except' blocks for handling different types of exceptions. The order of exception handling in Python is try, followed by except, and then finally.\n"
      ],
      "metadata": {
        "id": "grbksVB7Z0f0"
      }
    },
    {
      "cell_type": "markdown",
      "source": [
        "13.\t Why is memory management important in Python?\n",
        "Ans: Without proper memory management, you can face challenges while building these applications, as effective memory allocation is necessary in order to avoid problems that can arise when you run out of memory, such as memory leaks.\n"
      ],
      "metadata": {
        "id": "cevpY_RvZ2ZH"
      }
    },
    {
      "cell_type": "markdown",
      "source": [
        "14.\tWhat is the role of try and except in exception handling?\n",
        "Ans: The try block lets you test a block of code for errors. The except block lets you handle the error. The else block lets you execute code when there is no error. The finally block lets you execute code, regardless of the result of the try- and except blocks.\n"
      ],
      "metadata": {
        "id": "jFxhlrtGZ_zA"
      }
    },
    {
      "cell_type": "markdown",
      "source": [
        "15.\t How does Python's garbage collection system work?\n",
        "Ans:Python's garbage collection automatically cleans up any unused objects based on reference counting and object allocation and deallocation, meaning users won't have to clean these objects manually. This also helps periodically clear up memory space to help a program run more smoothly.\n"
      ],
      "metadata": {
        "id": "_Z50JbB2aCEk"
      }
    },
    {
      "cell_type": "markdown",
      "source": [
        "16.\t What is the purpose of the else block in exception handling?\n",
        "Ans:The 'else' block is executed when there are no exceptions raised within the try block. The 'else' block is useful when you want to perform specific actions when no exceptions occur. It can be used, for example, to execute additional code if the 'try' block succeeds in its operation and enhances the program flow.\n"
      ],
      "metadata": {
        "id": "EMjtBeXBaFjn"
      }
    },
    {
      "cell_type": "markdown",
      "source": [
        "17.\t What are the common logging levels in Python?\n",
        "Ans: Python has six log levels with each one assigned a specific integer indicating the severity of the log:\n",
        "•\tNOTSET=0\n",
        "•\tDEBUG=10\n",
        "•\tINFO=20\n",
        "•\tWARN=30\n",
        "•\tERROR=40\n",
        "•\tCRITICAL=50\n"
      ],
      "metadata": {
        "id": "SzB7aKzHaH4r"
      }
    },
    {
      "cell_type": "markdown",
      "source": [
        "18.\t What is the difference between os.fork() and multiprocessing in Python?\n",
        "Ans: fork() method creates a copy of the process that has called it. Executing os. fork() creates two processes: A parent process and a child process. It returns 0 in the child process, and the child's process id in the parent process. Use os. Multiprocessing refers to the ability of a system to run multiple processors in parallel, where each processor can run one or more threads.\n"
      ],
      "metadata": {
        "id": "9vAAI_GJaKdZ"
      }
    },
    {
      "cell_type": "markdown",
      "source": [
        "19.\tWhat is the importance of closing a file in Python?\n",
        "Ans: Closing files in Python is an essential practice that helps maintain data integrity, prevent resource leaks, and ensure the reliability of your applications. By mastering file handling techniques, you can write more robust and efficient Python code that effectively manages file resources.\n"
      ],
      "metadata": {
        "id": "XHDbYFvhaOLa"
      }
    },
    {
      "cell_type": "markdown",
      "source": [
        "20.\tWhat is the difference between file.read() and file.readline() in Python?\n",
        "Ans: In Python, the `read()` method is used to read a specified number of characters from a file or input stream, while the `readline()` method is used to read a single line from a file or input stream. The `read()` method will read the entire content of the file or stream if no argument is provided, returning a string.\n"
      ],
      "metadata": {
        "id": "n_XGGkDYaRRs"
      }
    },
    {
      "cell_type": "markdown",
      "source": [
        "21.\t What is the logging module in Python used for?\n",
        "Ans: Python logging is a module that allows you to track events that occur while your program is running. You can use logging to record information about errors, warnings, and other events that occur during program execution. And logging is a useful tool for debugging, troubleshooting, and monitoring your program."
      ],
      "metadata": {
        "id": "T9n6O8aGaTk_"
      }
    },
    {
      "cell_type": "markdown",
      "source": [
        "22.\t What is the os module in Python used for in file handling?\n",
        "Ans: Python has a built-in os module with methods for interacting with the operating system, like creating files and directories, management of files and directories, input, output, environment variables, process management, etc.\n"
      ],
      "metadata": {
        "id": "BEyijl02aW1V"
      }
    },
    {
      "cell_type": "markdown",
      "source": [
        "23.\tWhat are the challenges associated with memory management in Python?\n",
        "Ans: Memory leaks in Python can occur when objects that are no longer being used are not correctly deallocated by the garbage collector. This can result in the application using more and more memory over time, potentially leading to degraded performance and even crashing.\n"
      ],
      "metadata": {
        "id": "GIyRQT4baZpT"
      }
    },
    {
      "cell_type": "markdown",
      "source": [
        "24.\tHow do you raise an exception manually in Python?\n",
        "Ans: To manually raise an exception in Python, you can use the raise keyword. This keyword allows you to throw an exception with a custom error message. In our example, we define a function called divide() that takes two numbers as arguments and divides them"
      ],
      "metadata": {
        "id": "j7BxclI2abp9"
      }
    },
    {
      "cell_type": "markdown",
      "source": [
        "25.\tWhy is it important to use multithreading in certain applications?\n",
        "Ans: Improved Performance: Multithreading improves the performance of applications by running the task simultaneously. Better Responsiveness: Multithreading improves the responsiveness of your backend applications by running threads after a task is blocked.\n"
      ],
      "metadata": {
        "id": "IJZzen3KbWKA"
      }
    },
    {
      "cell_type": "markdown",
      "source": [
        "Practical Questions"
      ],
      "metadata": {
        "id": "b0qbbIIFtJDP"
      }
    },
    {
      "cell_type": "markdown",
      "source": [
        "1.\tHow can you open a file for writing in Python and write a string to it?"
      ],
      "metadata": {
        "id": "KerVViqXtK6j"
      }
    },
    {
      "cell_type": "code",
      "source": [
        "with open(\"Name.txt\", \"w\") as file:\n",
        "    file.write(\"Hello, World!\")"
      ],
      "metadata": {
        "id": "2Tmaf7WftQSj"
      },
      "execution_count": 27,
      "outputs": []
    },
    {
      "cell_type": "markdown",
      "source": [
        "Ans: Open the file in write mode\n",
        "\n",
        "•\t\"Name.txt\" is the name of the file you want to create or overwrite.\n",
        "•\t\"w\" is the mode that stands for \"write\". If the file already exists, it will be overwritten; if it doesn't exist, it will be created.\n",
        "•\tfile.write(\"Hello, World!\") writes the string \"Hello, World!\" to the file.\n",
        "Using the with statement ensures that the file is properly closed after writing, even if an error occurs during the operation.\n"
      ],
      "metadata": {
        "id": "bLOBDVEttVDA"
      }
    },
    {
      "cell_type": "markdown",
      "source": [
        "2.Write a Python program to read the contents of a file and print each line?"
      ],
      "metadata": {
        "id": "PDMYS04vt5tY"
      }
    },
    {
      "cell_type": "code",
      "source": [
        "with open(\"Name.txt\", \"r\") as file:\n",
        "    # Iterate over each line in the file\n",
        "    for line in file:\n",
        "        print(line.strip())  # strip() removes the trailing newline character\n"
      ],
      "metadata": {
        "colab": {
          "base_uri": "https://localhost:8080/"
        },
        "id": "F0UOpsxnt7YF",
        "outputId": "4843a6fc-5caf-4f5e-a5dc-c68c9ec1c6ea"
      },
      "execution_count": 28,
      "outputs": [
        {
          "output_type": "stream",
          "name": "stdout",
          "text": [
            "Hello, World!\n"
          ]
        }
      ]
    },
    {
      "cell_type": "markdown",
      "source": [
        "\t//line.strip(): Removes any leading and trailing whitespace, including the newline character at the end of each line."
      ],
      "metadata": {
        "id": "kNfzZgT7uR3C"
      }
    },
    {
      "cell_type": "markdown",
      "source": [
        "3.How would you handle a case where the file doesn't exist while trying to open it for reading?Sol: To handle the case where a file doesn't exist while trying to open it for reading in Python, you can use a try-except block to catch the FileNotFoundError exception. This approach allows your program to continue running smoothly without crashing."
      ],
      "metadata": {
        "id": "9QsKHQTJuiYN"
      }
    },
    {
      "cell_type": "code",
      "source": [
        "try:\n",
        "    with open(\"Silki.txt\", \"r\") as file:\n",
        "        content = file.read()\n",
        "        print(content)\n",
        "except FileNotFoundError:\n",
        "    print(\"Error: The file 'Name.txt' does not exist.\")\n",
        "except PermissionError:\n",
        "    print(\"Error: You do not have permission to read 'Name.txt'.\")\n",
        "except Exception as e:\n",
        "    print(f\"An unexpected error occurred: {e}\")\n"
      ],
      "metadata": {
        "colab": {
          "base_uri": "https://localhost:8080/"
        },
        "id": "K_XNqKuHuojj",
        "outputId": "ea51d657-c04d-4613-c661-5f92acea866b"
      },
      "execution_count": 6,
      "outputs": [
        {
          "output_type": "stream",
          "name": "stdout",
          "text": [
            "Error: The file 'Name.txt' does not exist.\n"
          ]
        }
      ]
    },
    {
      "cell_type": "markdown",
      "source": [
        "4. Write a Python script that reads from one file and writes its content to another file?"
      ],
      "metadata": {
        "id": "fQJhafRzvAMq"
      }
    },
    {
      "cell_type": "code",
      "source": [
        "# Create a dummy source file for demonstration\n",
        "with open('source.txt', 'w') as f:\n",
        "    f.write(\"This is the content of the source file.\")\n",
        "source_file = 'source.txt'\n",
        "destination_file = 'destination.txt'\n",
        "\n",
        "# Open the source file in read mode and the destination file in write mode\n",
        "with open(source_file, 'r') as src, open(destination_file, 'w') as dest:\n",
        "    # Read the content from the source file\n",
        "    content = src.read()\n",
        "    # Write the content to the destination file\n",
        "    dest.write(content)\n",
        "\n",
        "print(f\"Content copied from {source_file} to {destination_file}.\")\n"
      ],
      "metadata": {
        "colab": {
          "base_uri": "https://localhost:8080/"
        },
        "id": "dqF_gN0kvD8H",
        "outputId": "a47b3f0e-1c9f-4c31-fc47-bc6336827a35"
      },
      "execution_count": 10,
      "outputs": [
        {
          "output_type": "stream",
          "name": "stdout",
          "text": [
            "Content copied from source.txt to destination.txt.\n"
          ]
        }
      ]
    },
    {
      "cell_type": "markdown",
      "source": [
        "5. How would you catch and handle division by zero error in Python?"
      ],
      "metadata": {
        "id": "SsRd-nOGvlNv"
      }
    },
    {
      "cell_type": "code",
      "source": [
        "try:\n",
        "    numerator = 10\n",
        "    denominator = 0\n",
        "    result = numerator / denominator\n",
        "    print(f\"Result: {result}\")\n",
        "except ZeroDivisionError:\n",
        "    print(\"Error: Cannot divide by zero.\")\n"
      ],
      "metadata": {
        "colab": {
          "base_uri": "https://localhost:8080/"
        },
        "id": "gBDOj3ENvovo",
        "outputId": "56b04bee-484e-4e96-aaf0-fc313ee16890"
      },
      "execution_count": 11,
      "outputs": [
        {
          "output_type": "stream",
          "name": "stdout",
          "text": [
            "Error: Cannot divide by zero.\n"
          ]
        }
      ]
    },
    {
      "cell_type": "markdown",
      "source": [
        "6.Write a Python program that logs an error message to a log file when a division by zero exception occurs?"
      ],
      "metadata": {
        "id": "w0JSEl7yvq9-"
      }
    },
    {
      "cell_type": "code",
      "source": [
        "import logging\n",
        "\n",
        "# Configure the logging settings\n",
        "logging.basicConfig(\n",
        "    filename='error_log.txt',  # The log file to store the error message\n",
        "    level=logging.ERROR,       # Only log errors (or higher severity)\n",
        "    format='%(asctime)s - %(levelname)s - %(message)s',  # Format of the log message\n",
        ")\n",
        "\n",
        "def divide_numbers(a, b):\n",
        "    try:\n",
        "        result = a / b\n",
        "        return result\n",
        "    except ZeroDivisionError as e:\n",
        "        # Log the error message when division by zero occurs\n",
        "        logging.error(f\"Attempted to divide by zero. Error: {e}\")\n",
        "        print(\"Error: Division by zero is not allowed.\")\n",
        "\n",
        "# Test the function\n",
        "num1 = 10\n",
        "num2 = 0\n",
        "\n",
        "# This will trigger a division by zero error and log the message\n",
        "divide_numbers(num1, num2)\n"
      ],
      "metadata": {
        "colab": {
          "base_uri": "https://localhost:8080/"
        },
        "id": "iBFvy-gNwM_G",
        "outputId": "90bd549b-ad7a-462b-a2a7-598a3d16a1d3"
      },
      "execution_count": 12,
      "outputs": [
        {
          "output_type": "stream",
          "name": "stderr",
          "text": [
            "ERROR:root:Attempted to divide by zero. Error: division by zero\n"
          ]
        },
        {
          "output_type": "stream",
          "name": "stdout",
          "text": [
            "Error: Division by zero is not allowed.\n"
          ]
        }
      ]
    },
    {
      "cell_type": "markdown",
      "source": [
        "7.How do you log information at different levels (INFO, ERROR, WARNING) in Python using the logging module?\n",
        "Sol: In Python, the logging module allows you to log messages at different levels to capture various degrees of severity. The most common logging levels are:\n",
        "1.\tDEBUG: Detailed information, typically useful only for diagnosing problems.\n",
        "2.\tINFO: General information about the flow of the program (e.g., milestones).\n",
        "3.\tWARNING: Indication that something unexpected happened or that there’s a potential problem.\n",
        "4.\tERROR: Indicates a more serious problem that prevented the program from performing a function.\n",
        "5.\tCRITICAL: A very serious error that might cause the program to terminate.\n",
        "import logging"
      ],
      "metadata": {
        "id": "6eeulcwpwmui"
      }
    },
    {
      "cell_type": "code",
      "source": [
        "# Configure logging\n",
        "logging.basicConfig(\n",
        "    filename='app.log',         # Log file name\n",
        "    level=logging.DEBUG,        # Set the root logger to DEBUG to capture all messages\n",
        "    format='%(asctime)s - %(levelname)s - %(message)s'  # Format for log messages\n",
        ")\n",
        "\n",
        "# Log messages at different levels\n",
        "logging.debug(\"This is a DEBUG message.\")\n",
        "logging.info(\"This is an INFO message.\")\n",
        "logging.warning(\"This is a WARNING message.\")\n",
        "logging.error(\"This is an ERROR message.\")\n",
        "logging.critical(\"This is a CRITICAL message.\")\n"
      ],
      "metadata": {
        "colab": {
          "base_uri": "https://localhost:8080/"
        },
        "id": "T_q3Iuv6w3qm",
        "outputId": "94be9822-aa16-4dcf-f1fd-0c5c0bbcd80b"
      },
      "execution_count": 13,
      "outputs": [
        {
          "output_type": "stream",
          "name": "stderr",
          "text": [
            "WARNING:root:This is a WARNING message.\n",
            "ERROR:root:This is an ERROR message.\n",
            "CRITICAL:root:This is a CRITICAL message.\n"
          ]
        }
      ]
    },
    {
      "cell_type": "code",
      "source": [
        "import logging\n",
        "\n",
        "# Configure the logger\n",
        "logging.basicConfig(\n",
        "    level=logging.DEBUG,  # Capture all levels\n",
        "    format='%(asctime)s - %(levelname)s - %(message)s',\n",
        "    filename='app.log'\n",
        ")\n"
      ],
      "metadata": {
        "id": "PYiOK2MLxFTt"
      },
      "execution_count": 14,
      "outputs": []
    },
    {
      "cell_type": "code",
      "source": [
        "# Simulate different events in the application\n",
        "\n",
        "def simulate_program():\n",
        "    logging.debug(\"Starting program execution.\")\n",
        "\n",
        "    try:\n",
        "        x = 10 / 0  # Division by zero error\n",
        "    except ZeroDivisionError:\n",
        "        logging.error(\"An error occurred: Division by zero.\")\n",
        "\n",
        "    logging.info(\"Program executed successfully, but there were warnings.\")\n",
        "    logging.warning(\"This is a warning: Check your input values.\")\n",
        "\n",
        "simulate_program()\n"
      ],
      "metadata": {
        "colab": {
          "base_uri": "https://localhost:8080/"
        },
        "id": "MCD_09ttxJW1",
        "outputId": "b64301a6-930e-4192-8d0e-fb1ba670422b"
      },
      "execution_count": 15,
      "outputs": [
        {
          "output_type": "stream",
          "name": "stderr",
          "text": [
            "ERROR:root:An error occurred: Division by zero.\n",
            "WARNING:root:This is a warning: Check your input values.\n"
          ]
        }
      ]
    },
    {
      "cell_type": "markdown",
      "source": [
        "8.Write a program to handle a file opening error using exception handling?"
      ],
      "metadata": {
        "id": "kG5hirZUxU6s"
      }
    },
    {
      "cell_type": "code",
      "source": [
        "def open_file(file_path):\n",
        "    try:\n",
        "        # Attempt to open the file in read mode\n",
        "        with open(file_path, 'r') as file:\n",
        "            content = file.read()\n",
        "            print(\"File content successfully read.\")\n",
        "            return content\n",
        "    except FileNotFoundError:\n",
        "        # Handle the case where the file does not exist\n",
        "        print(f\"Error: The file '{file_path}' was not found.\")\n",
        "    except PermissionError:\n",
        "        # Handle the case where permission to open the file is denied\n",
        "        print(f\"Error: You do not have permission to open the file '{file_path}'.\")\n",
        "    except Exception as e:\n",
        "        # Catch any other unforeseen exceptions\n",
        "        print(f\"An unexpected error occurred: {e}\")\n",
        "\n",
        "  # Example usage\n",
        "file_path = 'Name.txt'  # Change this to test with a real file\n",
        "content = open_file(file_path)\n",
        "\n",
        "if content:\n",
        "    print(\"File Content:\")\n",
        "    print(content)\n"
      ],
      "metadata": {
        "colab": {
          "base_uri": "https://localhost:8080/"
        },
        "id": "PBVeUp8hxaHp",
        "outputId": "843c51eb-d04a-4d88-f9e2-c088ded49cfd"
      },
      "execution_count": 18,
      "outputs": [
        {
          "output_type": "stream",
          "name": "stdout",
          "text": [
            "File content successfully read.\n",
            "File Content:\n",
            "Hello, World!\n"
          ]
        }
      ]
    },
    {
      "cell_type": "markdown",
      "source": [
        "9.How can you read a file line by line and store its content in a list in Python?"
      ],
      "metadata": {
        "id": "zeM2_Qyex5hs"
      }
    },
    {
      "cell_type": "code",
      "source": [
        " def read_file_line_by_line(file_path):\n",
        "    lines = []  # List to store lines of the file\n",
        "\n",
        "    try:\n",
        "        # Open the file in read mode\n",
        "        with open(file_path, 'r') as file:\n",
        "            # Loop through each line in the file\n",
        "            for line in file:\n",
        "                # Strip newline characters and add the line to the list\n",
        "                lines.append(line.strip())\n",
        "        return lines\n",
        "\n",
        "    except FileNotFoundError:\n",
        "        print(f\"Error: The file '{file_path}' was not found.\")\n",
        "    except PermissionError:\n",
        "        print(f\"Error: You do not have permission to open the file '{file_path}'.\")\n",
        "    except Exception as e:\n",
        "        print(f\"An unexpected error occurred: {e}\")\n",
        "file_path = 'Name.txt'  # Replace with the path to your file\n",
        "lines = read_file_line_by_line(file_path)\n",
        "\n",
        "if lines:\n",
        "    print(\"File content stored in a list:\")\n",
        "    for i, line in enumerate(lines, 1):\n",
        "        print(f\"Line {i}: {line}\")\n"
      ],
      "metadata": {
        "colab": {
          "base_uri": "https://localhost:8080/"
        },
        "id": "iW5ez0qsyDI8",
        "outputId": "0dc5f51f-d09b-434c-f033-6d626b8d2fac"
      },
      "execution_count": 19,
      "outputs": [
        {
          "output_type": "stream",
          "name": "stdout",
          "text": [
            "File content stored in a list:\n",
            "Line 1: Hello, World!\n"
          ]
        }
      ]
    },
    {
      "cell_type": "markdown",
      "source": [
        "10.How can you append data to an existing file in Python?\n",
        "Sol: To append data to an existing file in Python, you can use the open() function in append mode ('a'). This ensures that the new data is added to the end of the file without overwriting its existing contents.\n",
        "Syntax:open('file_path', 'a')\n",
        "a' mode: Opens the file for appending. If the file doesn’t exist, it will create a new one. The file pointer is placed at the end of the file, so new data is written after the existing content."
      ],
      "metadata": {
        "id": "SNbnJozzyZle"
      }
    },
    {
      "cell_type": "code",
      "source": [
        "def append_to_file(file_path, data):\n",
        "    try:\n",
        "        # Open the file in append mode\n",
        "        with open(file_path, 'a') as file:\n",
        "            # Write the new data to the file\n",
        "            file.write('Silki Sharma' + '\\n')  # Add a newline after the data\n",
        "        print(f\"Silki Sharma successfully appended to {file_path}\")\n",
        "    except Exception as e:\n",
        "        print(f\"An error occurred: {e}\")\n",
        "\n",
        "# Example usage\n",
        "file_path = 'Name.txt'  # Replace with the path to your file\n",
        "data_to_append = \"This is a new line of text.\"\n",
        "\n",
        "# Call the function to append data\n",
        "append_to_file(file_path, data_to_append)"
      ],
      "metadata": {
        "colab": {
          "base_uri": "https://localhost:8080/"
        },
        "id": "RM2XgZWxyj3x",
        "outputId": "71780aa0-5d69-4990-e9eb-0fc3e3648d0c"
      },
      "execution_count": 29,
      "outputs": [
        {
          "output_type": "stream",
          "name": "stdout",
          "text": [
            "Silki Sharma successfully appended to Name.txt\n"
          ]
        }
      ]
    },
    {
      "cell_type": "markdown",
      "source": [
        "11. Write a Python program that uses a try-except block to handle an error when attempting to access a dictionary key that doesn't exist?"
      ],
      "metadata": {
        "id": "A6sXxHvyzMKU"
      }
    },
    {
      "cell_type": "code",
      "source": [
        "def access_dict_key(dictionary, key):\n",
        "    try:\n",
        "        # Attempt to access the dictionary using the provided key\n",
        "        value = dictionary[key]\n",
        "        print(f\"Value for key '{key}': {value}\")\n",
        "    except KeyError:\n",
        "        # Handle the case where the key does not exist\n",
        "        print(f\"Error: The key '{key}' does not exist in the dictionary.\")\n",
        "\n",
        "# Example dictionary\n",
        "my_dict = {'name': 'Alice', 'age': 30, 'city': 'New York'}\n",
        "\n",
        "# Test the function with a key that exists and one that doesn't\n",
        "access_dict_key(my_dict, 'name')  # Valid key\n",
        "access_dict_key(my_dict, 'address')  # Invalid key\n"
      ],
      "metadata": {
        "colab": {
          "base_uri": "https://localhost:8080/"
        },
        "id": "33XGNw-AzPXz",
        "outputId": "9733cd48-4693-41f4-a76a-1fe45f998945"
      },
      "execution_count": 32,
      "outputs": [
        {
          "output_type": "stream",
          "name": "stdout",
          "text": [
            "Value for key 'name': Alice\n",
            "Error: The key 'address' does not exist in the dictionary.\n"
          ]
        }
      ]
    },
    {
      "cell_type": "markdown",
      "source": [
        "12. Write a program that demonstrates using multiple except blocks to handle different types of exceptions?"
      ],
      "metadata": {
        "id": "agXolGpeziG1"
      }
    },
    {
      "cell_type": "code",
      "source": [
        "def divide_numbers():\n",
        "    try:\n",
        "        numerator = int(input(\"Enter the numerator: \"))\n",
        "        denominator = int(input(\"Enter the denominator: \"))\n",
        "        result = numerator / denominator\n",
        "        print(f\"Result: {result}\")\n",
        "    except ZeroDivisionError:\n",
        "        print(\"Error: Cannot divide by zero.\")\n",
        "    except ValueError:\n",
        "        print(\"Error: Please enter valid integers.\")\n",
        "    except Exception as e:\n",
        "        print(f\"An unexpected error occurred: {e}\")\n"
      ],
      "metadata": {
        "id": "2iR6zjjFzorV"
      },
      "execution_count": 34,
      "outputs": []
    },
    {
      "cell_type": "code",
      "source": [
        "divide_numbers()"
      ],
      "metadata": {
        "colab": {
          "base_uri": "https://localhost:8080/"
        },
        "id": "Ei7hnWydzroG",
        "outputId": "935a855b-272b-4d73-f0a7-75d81482b7d5"
      },
      "execution_count": 35,
      "outputs": [
        {
          "output_type": "stream",
          "name": "stdout",
          "text": [
            "Enter the numerator: 4\n",
            "Enter the denominator: 5\n",
            "Result: 0.8\n"
          ]
        }
      ]
    },
    {
      "cell_type": "code",
      "source": [
        "divide_numbers()"
      ],
      "metadata": {
        "colab": {
          "base_uri": "https://localhost:8080/"
        },
        "id": "d9AqV2XGzw2R",
        "outputId": "156f8c5c-bd58-4857-f907-5e129aa85c9b"
      },
      "execution_count": 36,
      "outputs": [
        {
          "output_type": "stream",
          "name": "stdout",
          "text": [
            "Enter the numerator: 10\n",
            "Enter the denominator: 0\n",
            "Error: Cannot divide by zero.\n"
          ]
        }
      ]
    },
    {
      "cell_type": "code",
      "source": [
        "divide_numbers()"
      ],
      "metadata": {
        "colab": {
          "base_uri": "https://localhost:8080/"
        },
        "id": "Ts7Bz6S4z3_o",
        "outputId": "fde8ceb1-0f50-465c-a7a6-28de8b9294c9"
      },
      "execution_count": 37,
      "outputs": [
        {
          "output_type": "stream",
          "name": "stdout",
          "text": [
            "Enter the numerator: 10\n",
            "Enter the denominator: abcd\n",
            "Error: Please enter valid integers.\n"
          ]
        }
      ]
    },
    {
      "cell_type": "markdown",
      "source": [
        "13.How would you check if a file exists before attempting to read it in Python?"
      ],
      "metadata": {
        "id": "7us5tTcJ0C4R"
      }
    },
    {
      "cell_type": "code",
      "source": [
        "file_path = 'Name.txt'\n",
        "\n",
        "try:\n",
        "    with open(file_path, 'r') as file:\n",
        "        content = file.read()\n",
        "        print(content)\n",
        "except FileNotFoundError:\n",
        "    print(f\"The file '{file_path}' does not exist.\")\n",
        "except Exception as e:\n",
        "    print(f\"An unexpected error occurred: {e}\")\n"
      ],
      "metadata": {
        "colab": {
          "base_uri": "https://localhost:8080/"
        },
        "id": "6blPqC2m0H9d",
        "outputId": "2d335977-474f-4941-b6ec-0bc00374171b"
      },
      "execution_count": 38,
      "outputs": [
        {
          "output_type": "stream",
          "name": "stdout",
          "text": [
            "Hello, World!Silki Sharma\n",
            "\n"
          ]
        }
      ]
    },
    {
      "cell_type": "markdown",
      "source": [
        "14. Write a program that uses the logging module to log both informational and error messages?"
      ],
      "metadata": {
        "id": "SdR2ZGKn0Q8-"
      }
    },
    {
      "cell_type": "code",
      "source": [
        "import logging\n",
        "\n",
        "# Configure the logging\n",
        "logging.basicConfig(\n",
        "    level=logging.DEBUG,\n",
        "    format='%(asctime)s - %(levelname)s - %(message)s'\n",
        ")\n",
        "\n",
        "# Create a logger\n",
        "logger = logging.getLogger(__name__)\n",
        "\n",
        "def divide(a, b):\n",
        "    try:\n",
        "        result = a / b\n",
        "        logger.info(\"Division successful: %d / %d = %f\", a, b, result)\n",
        "        return result\n",
        "    except ZeroDivisionError as e:\n",
        "        logger.error(\"Error occurred: %s\", e, exc_info=True)\n",
        "        return None\n"
      ],
      "metadata": {
        "id": "n3fmF5cc0Tkr"
      },
      "execution_count": 39,
      "outputs": []
    },
    {
      "cell_type": "code",
      "source": [
        "divide(10, 2)"
      ],
      "metadata": {
        "colab": {
          "base_uri": "https://localhost:8080/"
        },
        "id": "OK2dzOUy0Wsi",
        "outputId": "c3bde25a-ba94-48c2-ab0a-76a0bd1e1742"
      },
      "execution_count": 40,
      "outputs": [
        {
          "output_type": "execute_result",
          "data": {
            "text/plain": [
              "5.0"
            ]
          },
          "metadata": {},
          "execution_count": 40
        }
      ]
    },
    {
      "cell_type": "code",
      "source": [
        "divide(10, 0)"
      ],
      "metadata": {
        "colab": {
          "base_uri": "https://localhost:8080/"
        },
        "id": "nrSYVzHw0ZoG",
        "outputId": "7c537deb-a1ac-499d-cb61-66a07e10ca25"
      },
      "execution_count": 41,
      "outputs": [
        {
          "output_type": "stream",
          "name": "stderr",
          "text": [
            "ERROR:__main__:Error occurred: division by zero\n",
            "Traceback (most recent call last):\n",
            "  File \"<ipython-input-39-869f9d32d1d4>\", line 14, in divide\n",
            "    result = a / b\n",
            "             ~~^~~\n",
            "ZeroDivisionError: division by zero\n"
          ]
        }
      ]
    },
    {
      "cell_type": "markdown",
      "source": [
        "15. Write a Python program that prints the content of a file and handles the case when the file is empty?"
      ],
      "metadata": {
        "id": "v3DcQAMA5GxK"
      }
    },
    {
      "cell_type": "code",
      "source": [
        "def read_file(file_path):\n",
        "    try:\n",
        "        with open(file_path, 'r') as file:\n",
        "            content = file.read()\n",
        "            if content:\n",
        "                print(\"File Content:\\n\", content)\n",
        "            else:\n",
        "                print(\"The file is empty.\")\n",
        "    except FileNotFoundError:\n",
        "        print(f\"Error: The file '{file_path}' does not exist.\")\n",
        "    except IOError as e:\n",
        "        print(f\"Error reading the file: {e}\")\n",
        "\n",
        "# Example usage\n",
        "file_path = 'Name.txt'\n",
        "read_file(file_path)\n"
      ],
      "metadata": {
        "colab": {
          "base_uri": "https://localhost:8080/"
        },
        "id": "U7rApVuu5Im8",
        "outputId": "b060e283-bad2-477a-df11-4bf75f1a4875"
      },
      "execution_count": 42,
      "outputs": [
        {
          "output_type": "stream",
          "name": "stdout",
          "text": [
            "File Content:\n",
            " Hello, World!Silki Sharma\n",
            "\n"
          ]
        }
      ]
    },
    {
      "cell_type": "code",
      "source": [
        "def read_file(file_path):\n",
        "    try:\n",
        "        with open(file_path, 'r') as file:\n",
        "            content = file.read()\n",
        "            if content:\n",
        "                print(\"File Content:\\n\", content)\n",
        "            else:\n",
        "                print(\"The file is empty.\")\n",
        "    except FileNotFoundError:\n",
        "        print(f\"Error: The file '{file_path}' does not exist.\")\n",
        "    except IOError as e:\n",
        "        print(f\"Error reading the file: {e}\")\n",
        "\n",
        "# Example usage\n",
        "file_path = 'Demo.txt'\n",
        "read_file(file_path)"
      ],
      "metadata": {
        "colab": {
          "base_uri": "https://localhost:8080/"
        },
        "id": "hzhkkQ6U5qtS",
        "outputId": "f905ffdb-e82d-4d7a-fb17-61080f53a100"
      },
      "execution_count": 44,
      "outputs": [
        {
          "output_type": "stream",
          "name": "stdout",
          "text": [
            "Error: The file 'Demo.txt' does not exist.\n"
          ]
        }
      ]
    },
    {
      "cell_type": "markdown",
      "source": [
        "16. Demonstrate how to use memory profiling to check the memory usage of a small program"
      ],
      "metadata": {
        "id": "dUhhrERQ67Km"
      }
    },
    {
      "cell_type": "code",
      "source": [
        "pip install memory_profiler"
      ],
      "metadata": {
        "colab": {
          "base_uri": "https://localhost:8080/"
        },
        "id": "SP_Ho1cb69ew",
        "outputId": "de3cf8f1-e2a3-415a-9579-3f37354c331c"
      },
      "execution_count": 47,
      "outputs": [
        {
          "output_type": "stream",
          "name": "stdout",
          "text": [
            "Collecting memory_profiler\n",
            "  Downloading memory_profiler-0.61.0-py3-none-any.whl.metadata (20 kB)\n",
            "Requirement already satisfied: psutil in /usr/local/lib/python3.11/dist-packages (from memory_profiler) (5.9.5)\n",
            "Downloading memory_profiler-0.61.0-py3-none-any.whl (31 kB)\n",
            "Installing collected packages: memory_profiler\n",
            "Successfully installed memory_profiler-0.61.0\n"
          ]
        }
      ]
    },
    {
      "cell_type": "code",
      "source": [
        "from memory_profiler import profile\n",
        "\n",
        "@profile\n",
        "def my_function():\n",
        "    a = [i for i in range(10000)]\n",
        "    b = [i**2 for i in range(10000)]\n",
        "    return a, b"
      ],
      "metadata": {
        "id": "zTH-bB1l7VIo"
      },
      "execution_count": 51,
      "outputs": []
    },
    {
      "cell_type": "code",
      "source": [
        "my_function()"
      ],
      "metadata": {
        "colab": {
          "base_uri": "https://localhost:8080/"
        },
        "id": "EUR7AzeU8zvu",
        "outputId": "db07082e-fca4-470b-89b9-8316f96a9723"
      },
      "execution_count": 52,
      "outputs": [
        {
          "output_type": "stream",
          "name": "stdout",
          "text": [
            "ERROR: Could not find file <ipython-input-51-baab0e979376>\n",
            "NOTE: %mprun can only be used on functions defined in physical files, and not in the IPython environment.\n"
          ]
        },
        {
          "output_type": "execute_result",
          "data": {
            "text/plain": [
              "([0,\n",
              "  1,\n",
              "  2,\n",
              "  3,\n",
              "  4,\n",
              "  5,\n",
              "  6,\n",
              "  7,\n",
              "  8,\n",
              "  9,\n",
              "  10,\n",
              "  11,\n",
              "  12,\n",
              "  13,\n",
              "  14,\n",
              "  15,\n",
              "  16,\n",
              "  17,\n",
              "  18,\n",
              "  19,\n",
              "  20,\n",
              "  21,\n",
              "  22,\n",
              "  23,\n",
              "  24,\n",
              "  25,\n",
              "  26,\n",
              "  27,\n",
              "  28,\n",
              "  29,\n",
              "  30,\n",
              "  31,\n",
              "  32,\n",
              "  33,\n",
              "  34,\n",
              "  35,\n",
              "  36,\n",
              "  37,\n",
              "  38,\n",
              "  39,\n",
              "  40,\n",
              "  41,\n",
              "  42,\n",
              "  43,\n",
              "  44,\n",
              "  45,\n",
              "  46,\n",
              "  47,\n",
              "  48,\n",
              "  49,\n",
              "  50,\n",
              "  51,\n",
              "  52,\n",
              "  53,\n",
              "  54,\n",
              "  55,\n",
              "  56,\n",
              "  57,\n",
              "  58,\n",
              "  59,\n",
              "  60,\n",
              "  61,\n",
              "  62,\n",
              "  63,\n",
              "  64,\n",
              "  65,\n",
              "  66,\n",
              "  67,\n",
              "  68,\n",
              "  69,\n",
              "  70,\n",
              "  71,\n",
              "  72,\n",
              "  73,\n",
              "  74,\n",
              "  75,\n",
              "  76,\n",
              "  77,\n",
              "  78,\n",
              "  79,\n",
              "  80,\n",
              "  81,\n",
              "  82,\n",
              "  83,\n",
              "  84,\n",
              "  85,\n",
              "  86,\n",
              "  87,\n",
              "  88,\n",
              "  89,\n",
              "  90,\n",
              "  91,\n",
              "  92,\n",
              "  93,\n",
              "  94,\n",
              "  95,\n",
              "  96,\n",
              "  97,\n",
              "  98,\n",
              "  99,\n",
              "  100,\n",
              "  101,\n",
              "  102,\n",
              "  103,\n",
              "  104,\n",
              "  105,\n",
              "  106,\n",
              "  107,\n",
              "  108,\n",
              "  109,\n",
              "  110,\n",
              "  111,\n",
              "  112,\n",
              "  113,\n",
              "  114,\n",
              "  115,\n",
              "  116,\n",
              "  117,\n",
              "  118,\n",
              "  119,\n",
              "  120,\n",
              "  121,\n",
              "  122,\n",
              "  123,\n",
              "  124,\n",
              "  125,\n",
              "  126,\n",
              "  127,\n",
              "  128,\n",
              "  129,\n",
              "  130,\n",
              "  131,\n",
              "  132,\n",
              "  133,\n",
              "  134,\n",
              "  135,\n",
              "  136,\n",
              "  137,\n",
              "  138,\n",
              "  139,\n",
              "  140,\n",
              "  141,\n",
              "  142,\n",
              "  143,\n",
              "  144,\n",
              "  145,\n",
              "  146,\n",
              "  147,\n",
              "  148,\n",
              "  149,\n",
              "  150,\n",
              "  151,\n",
              "  152,\n",
              "  153,\n",
              "  154,\n",
              "  155,\n",
              "  156,\n",
              "  157,\n",
              "  158,\n",
              "  159,\n",
              "  160,\n",
              "  161,\n",
              "  162,\n",
              "  163,\n",
              "  164,\n",
              "  165,\n",
              "  166,\n",
              "  167,\n",
              "  168,\n",
              "  169,\n",
              "  170,\n",
              "  171,\n",
              "  172,\n",
              "  173,\n",
              "  174,\n",
              "  175,\n",
              "  176,\n",
              "  177,\n",
              "  178,\n",
              "  179,\n",
              "  180,\n",
              "  181,\n",
              "  182,\n",
              "  183,\n",
              "  184,\n",
              "  185,\n",
              "  186,\n",
              "  187,\n",
              "  188,\n",
              "  189,\n",
              "  190,\n",
              "  191,\n",
              "  192,\n",
              "  193,\n",
              "  194,\n",
              "  195,\n",
              "  196,\n",
              "  197,\n",
              "  198,\n",
              "  199,\n",
              "  200,\n",
              "  201,\n",
              "  202,\n",
              "  203,\n",
              "  204,\n",
              "  205,\n",
              "  206,\n",
              "  207,\n",
              "  208,\n",
              "  209,\n",
              "  210,\n",
              "  211,\n",
              "  212,\n",
              "  213,\n",
              "  214,\n",
              "  215,\n",
              "  216,\n",
              "  217,\n",
              "  218,\n",
              "  219,\n",
              "  220,\n",
              "  221,\n",
              "  222,\n",
              "  223,\n",
              "  224,\n",
              "  225,\n",
              "  226,\n",
              "  227,\n",
              "  228,\n",
              "  229,\n",
              "  230,\n",
              "  231,\n",
              "  232,\n",
              "  233,\n",
              "  234,\n",
              "  235,\n",
              "  236,\n",
              "  237,\n",
              "  238,\n",
              "  239,\n",
              "  240,\n",
              "  241,\n",
              "  242,\n",
              "  243,\n",
              "  244,\n",
              "  245,\n",
              "  246,\n",
              "  247,\n",
              "  248,\n",
              "  249,\n",
              "  250,\n",
              "  251,\n",
              "  252,\n",
              "  253,\n",
              "  254,\n",
              "  255,\n",
              "  256,\n",
              "  257,\n",
              "  258,\n",
              "  259,\n",
              "  260,\n",
              "  261,\n",
              "  262,\n",
              "  263,\n",
              "  264,\n",
              "  265,\n",
              "  266,\n",
              "  267,\n",
              "  268,\n",
              "  269,\n",
              "  270,\n",
              "  271,\n",
              "  272,\n",
              "  273,\n",
              "  274,\n",
              "  275,\n",
              "  276,\n",
              "  277,\n",
              "  278,\n",
              "  279,\n",
              "  280,\n",
              "  281,\n",
              "  282,\n",
              "  283,\n",
              "  284,\n",
              "  285,\n",
              "  286,\n",
              "  287,\n",
              "  288,\n",
              "  289,\n",
              "  290,\n",
              "  291,\n",
              "  292,\n",
              "  293,\n",
              "  294,\n",
              "  295,\n",
              "  296,\n",
              "  297,\n",
              "  298,\n",
              "  299,\n",
              "  300,\n",
              "  301,\n",
              "  302,\n",
              "  303,\n",
              "  304,\n",
              "  305,\n",
              "  306,\n",
              "  307,\n",
              "  308,\n",
              "  309,\n",
              "  310,\n",
              "  311,\n",
              "  312,\n",
              "  313,\n",
              "  314,\n",
              "  315,\n",
              "  316,\n",
              "  317,\n",
              "  318,\n",
              "  319,\n",
              "  320,\n",
              "  321,\n",
              "  322,\n",
              "  323,\n",
              "  324,\n",
              "  325,\n",
              "  326,\n",
              "  327,\n",
              "  328,\n",
              "  329,\n",
              "  330,\n",
              "  331,\n",
              "  332,\n",
              "  333,\n",
              "  334,\n",
              "  335,\n",
              "  336,\n",
              "  337,\n",
              "  338,\n",
              "  339,\n",
              "  340,\n",
              "  341,\n",
              "  342,\n",
              "  343,\n",
              "  344,\n",
              "  345,\n",
              "  346,\n",
              "  347,\n",
              "  348,\n",
              "  349,\n",
              "  350,\n",
              "  351,\n",
              "  352,\n",
              "  353,\n",
              "  354,\n",
              "  355,\n",
              "  356,\n",
              "  357,\n",
              "  358,\n",
              "  359,\n",
              "  360,\n",
              "  361,\n",
              "  362,\n",
              "  363,\n",
              "  364,\n",
              "  365,\n",
              "  366,\n",
              "  367,\n",
              "  368,\n",
              "  369,\n",
              "  370,\n",
              "  371,\n",
              "  372,\n",
              "  373,\n",
              "  374,\n",
              "  375,\n",
              "  376,\n",
              "  377,\n",
              "  378,\n",
              "  379,\n",
              "  380,\n",
              "  381,\n",
              "  382,\n",
              "  383,\n",
              "  384,\n",
              "  385,\n",
              "  386,\n",
              "  387,\n",
              "  388,\n",
              "  389,\n",
              "  390,\n",
              "  391,\n",
              "  392,\n",
              "  393,\n",
              "  394,\n",
              "  395,\n",
              "  396,\n",
              "  397,\n",
              "  398,\n",
              "  399,\n",
              "  400,\n",
              "  401,\n",
              "  402,\n",
              "  403,\n",
              "  404,\n",
              "  405,\n",
              "  406,\n",
              "  407,\n",
              "  408,\n",
              "  409,\n",
              "  410,\n",
              "  411,\n",
              "  412,\n",
              "  413,\n",
              "  414,\n",
              "  415,\n",
              "  416,\n",
              "  417,\n",
              "  418,\n",
              "  419,\n",
              "  420,\n",
              "  421,\n",
              "  422,\n",
              "  423,\n",
              "  424,\n",
              "  425,\n",
              "  426,\n",
              "  427,\n",
              "  428,\n",
              "  429,\n",
              "  430,\n",
              "  431,\n",
              "  432,\n",
              "  433,\n",
              "  434,\n",
              "  435,\n",
              "  436,\n",
              "  437,\n",
              "  438,\n",
              "  439,\n",
              "  440,\n",
              "  441,\n",
              "  442,\n",
              "  443,\n",
              "  444,\n",
              "  445,\n",
              "  446,\n",
              "  447,\n",
              "  448,\n",
              "  449,\n",
              "  450,\n",
              "  451,\n",
              "  452,\n",
              "  453,\n",
              "  454,\n",
              "  455,\n",
              "  456,\n",
              "  457,\n",
              "  458,\n",
              "  459,\n",
              "  460,\n",
              "  461,\n",
              "  462,\n",
              "  463,\n",
              "  464,\n",
              "  465,\n",
              "  466,\n",
              "  467,\n",
              "  468,\n",
              "  469,\n",
              "  470,\n",
              "  471,\n",
              "  472,\n",
              "  473,\n",
              "  474,\n",
              "  475,\n",
              "  476,\n",
              "  477,\n",
              "  478,\n",
              "  479,\n",
              "  480,\n",
              "  481,\n",
              "  482,\n",
              "  483,\n",
              "  484,\n",
              "  485,\n",
              "  486,\n",
              "  487,\n",
              "  488,\n",
              "  489,\n",
              "  490,\n",
              "  491,\n",
              "  492,\n",
              "  493,\n",
              "  494,\n",
              "  495,\n",
              "  496,\n",
              "  497,\n",
              "  498,\n",
              "  499,\n",
              "  500,\n",
              "  501,\n",
              "  502,\n",
              "  503,\n",
              "  504,\n",
              "  505,\n",
              "  506,\n",
              "  507,\n",
              "  508,\n",
              "  509,\n",
              "  510,\n",
              "  511,\n",
              "  512,\n",
              "  513,\n",
              "  514,\n",
              "  515,\n",
              "  516,\n",
              "  517,\n",
              "  518,\n",
              "  519,\n",
              "  520,\n",
              "  521,\n",
              "  522,\n",
              "  523,\n",
              "  524,\n",
              "  525,\n",
              "  526,\n",
              "  527,\n",
              "  528,\n",
              "  529,\n",
              "  530,\n",
              "  531,\n",
              "  532,\n",
              "  533,\n",
              "  534,\n",
              "  535,\n",
              "  536,\n",
              "  537,\n",
              "  538,\n",
              "  539,\n",
              "  540,\n",
              "  541,\n",
              "  542,\n",
              "  543,\n",
              "  544,\n",
              "  545,\n",
              "  546,\n",
              "  547,\n",
              "  548,\n",
              "  549,\n",
              "  550,\n",
              "  551,\n",
              "  552,\n",
              "  553,\n",
              "  554,\n",
              "  555,\n",
              "  556,\n",
              "  557,\n",
              "  558,\n",
              "  559,\n",
              "  560,\n",
              "  561,\n",
              "  562,\n",
              "  563,\n",
              "  564,\n",
              "  565,\n",
              "  566,\n",
              "  567,\n",
              "  568,\n",
              "  569,\n",
              "  570,\n",
              "  571,\n",
              "  572,\n",
              "  573,\n",
              "  574,\n",
              "  575,\n",
              "  576,\n",
              "  577,\n",
              "  578,\n",
              "  579,\n",
              "  580,\n",
              "  581,\n",
              "  582,\n",
              "  583,\n",
              "  584,\n",
              "  585,\n",
              "  586,\n",
              "  587,\n",
              "  588,\n",
              "  589,\n",
              "  590,\n",
              "  591,\n",
              "  592,\n",
              "  593,\n",
              "  594,\n",
              "  595,\n",
              "  596,\n",
              "  597,\n",
              "  598,\n",
              "  599,\n",
              "  600,\n",
              "  601,\n",
              "  602,\n",
              "  603,\n",
              "  604,\n",
              "  605,\n",
              "  606,\n",
              "  607,\n",
              "  608,\n",
              "  609,\n",
              "  610,\n",
              "  611,\n",
              "  612,\n",
              "  613,\n",
              "  614,\n",
              "  615,\n",
              "  616,\n",
              "  617,\n",
              "  618,\n",
              "  619,\n",
              "  620,\n",
              "  621,\n",
              "  622,\n",
              "  623,\n",
              "  624,\n",
              "  625,\n",
              "  626,\n",
              "  627,\n",
              "  628,\n",
              "  629,\n",
              "  630,\n",
              "  631,\n",
              "  632,\n",
              "  633,\n",
              "  634,\n",
              "  635,\n",
              "  636,\n",
              "  637,\n",
              "  638,\n",
              "  639,\n",
              "  640,\n",
              "  641,\n",
              "  642,\n",
              "  643,\n",
              "  644,\n",
              "  645,\n",
              "  646,\n",
              "  647,\n",
              "  648,\n",
              "  649,\n",
              "  650,\n",
              "  651,\n",
              "  652,\n",
              "  653,\n",
              "  654,\n",
              "  655,\n",
              "  656,\n",
              "  657,\n",
              "  658,\n",
              "  659,\n",
              "  660,\n",
              "  661,\n",
              "  662,\n",
              "  663,\n",
              "  664,\n",
              "  665,\n",
              "  666,\n",
              "  667,\n",
              "  668,\n",
              "  669,\n",
              "  670,\n",
              "  671,\n",
              "  672,\n",
              "  673,\n",
              "  674,\n",
              "  675,\n",
              "  676,\n",
              "  677,\n",
              "  678,\n",
              "  679,\n",
              "  680,\n",
              "  681,\n",
              "  682,\n",
              "  683,\n",
              "  684,\n",
              "  685,\n",
              "  686,\n",
              "  687,\n",
              "  688,\n",
              "  689,\n",
              "  690,\n",
              "  691,\n",
              "  692,\n",
              "  693,\n",
              "  694,\n",
              "  695,\n",
              "  696,\n",
              "  697,\n",
              "  698,\n",
              "  699,\n",
              "  700,\n",
              "  701,\n",
              "  702,\n",
              "  703,\n",
              "  704,\n",
              "  705,\n",
              "  706,\n",
              "  707,\n",
              "  708,\n",
              "  709,\n",
              "  710,\n",
              "  711,\n",
              "  712,\n",
              "  713,\n",
              "  714,\n",
              "  715,\n",
              "  716,\n",
              "  717,\n",
              "  718,\n",
              "  719,\n",
              "  720,\n",
              "  721,\n",
              "  722,\n",
              "  723,\n",
              "  724,\n",
              "  725,\n",
              "  726,\n",
              "  727,\n",
              "  728,\n",
              "  729,\n",
              "  730,\n",
              "  731,\n",
              "  732,\n",
              "  733,\n",
              "  734,\n",
              "  735,\n",
              "  736,\n",
              "  737,\n",
              "  738,\n",
              "  739,\n",
              "  740,\n",
              "  741,\n",
              "  742,\n",
              "  743,\n",
              "  744,\n",
              "  745,\n",
              "  746,\n",
              "  747,\n",
              "  748,\n",
              "  749,\n",
              "  750,\n",
              "  751,\n",
              "  752,\n",
              "  753,\n",
              "  754,\n",
              "  755,\n",
              "  756,\n",
              "  757,\n",
              "  758,\n",
              "  759,\n",
              "  760,\n",
              "  761,\n",
              "  762,\n",
              "  763,\n",
              "  764,\n",
              "  765,\n",
              "  766,\n",
              "  767,\n",
              "  768,\n",
              "  769,\n",
              "  770,\n",
              "  771,\n",
              "  772,\n",
              "  773,\n",
              "  774,\n",
              "  775,\n",
              "  776,\n",
              "  777,\n",
              "  778,\n",
              "  779,\n",
              "  780,\n",
              "  781,\n",
              "  782,\n",
              "  783,\n",
              "  784,\n",
              "  785,\n",
              "  786,\n",
              "  787,\n",
              "  788,\n",
              "  789,\n",
              "  790,\n",
              "  791,\n",
              "  792,\n",
              "  793,\n",
              "  794,\n",
              "  795,\n",
              "  796,\n",
              "  797,\n",
              "  798,\n",
              "  799,\n",
              "  800,\n",
              "  801,\n",
              "  802,\n",
              "  803,\n",
              "  804,\n",
              "  805,\n",
              "  806,\n",
              "  807,\n",
              "  808,\n",
              "  809,\n",
              "  810,\n",
              "  811,\n",
              "  812,\n",
              "  813,\n",
              "  814,\n",
              "  815,\n",
              "  816,\n",
              "  817,\n",
              "  818,\n",
              "  819,\n",
              "  820,\n",
              "  821,\n",
              "  822,\n",
              "  823,\n",
              "  824,\n",
              "  825,\n",
              "  826,\n",
              "  827,\n",
              "  828,\n",
              "  829,\n",
              "  830,\n",
              "  831,\n",
              "  832,\n",
              "  833,\n",
              "  834,\n",
              "  835,\n",
              "  836,\n",
              "  837,\n",
              "  838,\n",
              "  839,\n",
              "  840,\n",
              "  841,\n",
              "  842,\n",
              "  843,\n",
              "  844,\n",
              "  845,\n",
              "  846,\n",
              "  847,\n",
              "  848,\n",
              "  849,\n",
              "  850,\n",
              "  851,\n",
              "  852,\n",
              "  853,\n",
              "  854,\n",
              "  855,\n",
              "  856,\n",
              "  857,\n",
              "  858,\n",
              "  859,\n",
              "  860,\n",
              "  861,\n",
              "  862,\n",
              "  863,\n",
              "  864,\n",
              "  865,\n",
              "  866,\n",
              "  867,\n",
              "  868,\n",
              "  869,\n",
              "  870,\n",
              "  871,\n",
              "  872,\n",
              "  873,\n",
              "  874,\n",
              "  875,\n",
              "  876,\n",
              "  877,\n",
              "  878,\n",
              "  879,\n",
              "  880,\n",
              "  881,\n",
              "  882,\n",
              "  883,\n",
              "  884,\n",
              "  885,\n",
              "  886,\n",
              "  887,\n",
              "  888,\n",
              "  889,\n",
              "  890,\n",
              "  891,\n",
              "  892,\n",
              "  893,\n",
              "  894,\n",
              "  895,\n",
              "  896,\n",
              "  897,\n",
              "  898,\n",
              "  899,\n",
              "  900,\n",
              "  901,\n",
              "  902,\n",
              "  903,\n",
              "  904,\n",
              "  905,\n",
              "  906,\n",
              "  907,\n",
              "  908,\n",
              "  909,\n",
              "  910,\n",
              "  911,\n",
              "  912,\n",
              "  913,\n",
              "  914,\n",
              "  915,\n",
              "  916,\n",
              "  917,\n",
              "  918,\n",
              "  919,\n",
              "  920,\n",
              "  921,\n",
              "  922,\n",
              "  923,\n",
              "  924,\n",
              "  925,\n",
              "  926,\n",
              "  927,\n",
              "  928,\n",
              "  929,\n",
              "  930,\n",
              "  931,\n",
              "  932,\n",
              "  933,\n",
              "  934,\n",
              "  935,\n",
              "  936,\n",
              "  937,\n",
              "  938,\n",
              "  939,\n",
              "  940,\n",
              "  941,\n",
              "  942,\n",
              "  943,\n",
              "  944,\n",
              "  945,\n",
              "  946,\n",
              "  947,\n",
              "  948,\n",
              "  949,\n",
              "  950,\n",
              "  951,\n",
              "  952,\n",
              "  953,\n",
              "  954,\n",
              "  955,\n",
              "  956,\n",
              "  957,\n",
              "  958,\n",
              "  959,\n",
              "  960,\n",
              "  961,\n",
              "  962,\n",
              "  963,\n",
              "  964,\n",
              "  965,\n",
              "  966,\n",
              "  967,\n",
              "  968,\n",
              "  969,\n",
              "  970,\n",
              "  971,\n",
              "  972,\n",
              "  973,\n",
              "  974,\n",
              "  975,\n",
              "  976,\n",
              "  977,\n",
              "  978,\n",
              "  979,\n",
              "  980,\n",
              "  981,\n",
              "  982,\n",
              "  983,\n",
              "  984,\n",
              "  985,\n",
              "  986,\n",
              "  987,\n",
              "  988,\n",
              "  989,\n",
              "  990,\n",
              "  991,\n",
              "  992,\n",
              "  993,\n",
              "  994,\n",
              "  995,\n",
              "  996,\n",
              "  997,\n",
              "  998,\n",
              "  999,\n",
              "  ...],\n",
              " [0,\n",
              "  1,\n",
              "  4,\n",
              "  9,\n",
              "  16,\n",
              "  25,\n",
              "  36,\n",
              "  49,\n",
              "  64,\n",
              "  81,\n",
              "  100,\n",
              "  121,\n",
              "  144,\n",
              "  169,\n",
              "  196,\n",
              "  225,\n",
              "  256,\n",
              "  289,\n",
              "  324,\n",
              "  361,\n",
              "  400,\n",
              "  441,\n",
              "  484,\n",
              "  529,\n",
              "  576,\n",
              "  625,\n",
              "  676,\n",
              "  729,\n",
              "  784,\n",
              "  841,\n",
              "  900,\n",
              "  961,\n",
              "  1024,\n",
              "  1089,\n",
              "  1156,\n",
              "  1225,\n",
              "  1296,\n",
              "  1369,\n",
              "  1444,\n",
              "  1521,\n",
              "  1600,\n",
              "  1681,\n",
              "  1764,\n",
              "  1849,\n",
              "  1936,\n",
              "  2025,\n",
              "  2116,\n",
              "  2209,\n",
              "  2304,\n",
              "  2401,\n",
              "  2500,\n",
              "  2601,\n",
              "  2704,\n",
              "  2809,\n",
              "  2916,\n",
              "  3025,\n",
              "  3136,\n",
              "  3249,\n",
              "  3364,\n",
              "  3481,\n",
              "  3600,\n",
              "  3721,\n",
              "  3844,\n",
              "  3969,\n",
              "  4096,\n",
              "  4225,\n",
              "  4356,\n",
              "  4489,\n",
              "  4624,\n",
              "  4761,\n",
              "  4900,\n",
              "  5041,\n",
              "  5184,\n",
              "  5329,\n",
              "  5476,\n",
              "  5625,\n",
              "  5776,\n",
              "  5929,\n",
              "  6084,\n",
              "  6241,\n",
              "  6400,\n",
              "  6561,\n",
              "  6724,\n",
              "  6889,\n",
              "  7056,\n",
              "  7225,\n",
              "  7396,\n",
              "  7569,\n",
              "  7744,\n",
              "  7921,\n",
              "  8100,\n",
              "  8281,\n",
              "  8464,\n",
              "  8649,\n",
              "  8836,\n",
              "  9025,\n",
              "  9216,\n",
              "  9409,\n",
              "  9604,\n",
              "  9801,\n",
              "  10000,\n",
              "  10201,\n",
              "  10404,\n",
              "  10609,\n",
              "  10816,\n",
              "  11025,\n",
              "  11236,\n",
              "  11449,\n",
              "  11664,\n",
              "  11881,\n",
              "  12100,\n",
              "  12321,\n",
              "  12544,\n",
              "  12769,\n",
              "  12996,\n",
              "  13225,\n",
              "  13456,\n",
              "  13689,\n",
              "  13924,\n",
              "  14161,\n",
              "  14400,\n",
              "  14641,\n",
              "  14884,\n",
              "  15129,\n",
              "  15376,\n",
              "  15625,\n",
              "  15876,\n",
              "  16129,\n",
              "  16384,\n",
              "  16641,\n",
              "  16900,\n",
              "  17161,\n",
              "  17424,\n",
              "  17689,\n",
              "  17956,\n",
              "  18225,\n",
              "  18496,\n",
              "  18769,\n",
              "  19044,\n",
              "  19321,\n",
              "  19600,\n",
              "  19881,\n",
              "  20164,\n",
              "  20449,\n",
              "  20736,\n",
              "  21025,\n",
              "  21316,\n",
              "  21609,\n",
              "  21904,\n",
              "  22201,\n",
              "  22500,\n",
              "  22801,\n",
              "  23104,\n",
              "  23409,\n",
              "  23716,\n",
              "  24025,\n",
              "  24336,\n",
              "  24649,\n",
              "  24964,\n",
              "  25281,\n",
              "  25600,\n",
              "  25921,\n",
              "  26244,\n",
              "  26569,\n",
              "  26896,\n",
              "  27225,\n",
              "  27556,\n",
              "  27889,\n",
              "  28224,\n",
              "  28561,\n",
              "  28900,\n",
              "  29241,\n",
              "  29584,\n",
              "  29929,\n",
              "  30276,\n",
              "  30625,\n",
              "  30976,\n",
              "  31329,\n",
              "  31684,\n",
              "  32041,\n",
              "  32400,\n",
              "  32761,\n",
              "  33124,\n",
              "  33489,\n",
              "  33856,\n",
              "  34225,\n",
              "  34596,\n",
              "  34969,\n",
              "  35344,\n",
              "  35721,\n",
              "  36100,\n",
              "  36481,\n",
              "  36864,\n",
              "  37249,\n",
              "  37636,\n",
              "  38025,\n",
              "  38416,\n",
              "  38809,\n",
              "  39204,\n",
              "  39601,\n",
              "  40000,\n",
              "  40401,\n",
              "  40804,\n",
              "  41209,\n",
              "  41616,\n",
              "  42025,\n",
              "  42436,\n",
              "  42849,\n",
              "  43264,\n",
              "  43681,\n",
              "  44100,\n",
              "  44521,\n",
              "  44944,\n",
              "  45369,\n",
              "  45796,\n",
              "  46225,\n",
              "  46656,\n",
              "  47089,\n",
              "  47524,\n",
              "  47961,\n",
              "  48400,\n",
              "  48841,\n",
              "  49284,\n",
              "  49729,\n",
              "  50176,\n",
              "  50625,\n",
              "  51076,\n",
              "  51529,\n",
              "  51984,\n",
              "  52441,\n",
              "  52900,\n",
              "  53361,\n",
              "  53824,\n",
              "  54289,\n",
              "  54756,\n",
              "  55225,\n",
              "  55696,\n",
              "  56169,\n",
              "  56644,\n",
              "  57121,\n",
              "  57600,\n",
              "  58081,\n",
              "  58564,\n",
              "  59049,\n",
              "  59536,\n",
              "  60025,\n",
              "  60516,\n",
              "  61009,\n",
              "  61504,\n",
              "  62001,\n",
              "  62500,\n",
              "  63001,\n",
              "  63504,\n",
              "  64009,\n",
              "  64516,\n",
              "  65025,\n",
              "  65536,\n",
              "  66049,\n",
              "  66564,\n",
              "  67081,\n",
              "  67600,\n",
              "  68121,\n",
              "  68644,\n",
              "  69169,\n",
              "  69696,\n",
              "  70225,\n",
              "  70756,\n",
              "  71289,\n",
              "  71824,\n",
              "  72361,\n",
              "  72900,\n",
              "  73441,\n",
              "  73984,\n",
              "  74529,\n",
              "  75076,\n",
              "  75625,\n",
              "  76176,\n",
              "  76729,\n",
              "  77284,\n",
              "  77841,\n",
              "  78400,\n",
              "  78961,\n",
              "  79524,\n",
              "  80089,\n",
              "  80656,\n",
              "  81225,\n",
              "  81796,\n",
              "  82369,\n",
              "  82944,\n",
              "  83521,\n",
              "  84100,\n",
              "  84681,\n",
              "  85264,\n",
              "  85849,\n",
              "  86436,\n",
              "  87025,\n",
              "  87616,\n",
              "  88209,\n",
              "  88804,\n",
              "  89401,\n",
              "  90000,\n",
              "  90601,\n",
              "  91204,\n",
              "  91809,\n",
              "  92416,\n",
              "  93025,\n",
              "  93636,\n",
              "  94249,\n",
              "  94864,\n",
              "  95481,\n",
              "  96100,\n",
              "  96721,\n",
              "  97344,\n",
              "  97969,\n",
              "  98596,\n",
              "  99225,\n",
              "  99856,\n",
              "  100489,\n",
              "  101124,\n",
              "  101761,\n",
              "  102400,\n",
              "  103041,\n",
              "  103684,\n",
              "  104329,\n",
              "  104976,\n",
              "  105625,\n",
              "  106276,\n",
              "  106929,\n",
              "  107584,\n",
              "  108241,\n",
              "  108900,\n",
              "  109561,\n",
              "  110224,\n",
              "  110889,\n",
              "  111556,\n",
              "  112225,\n",
              "  112896,\n",
              "  113569,\n",
              "  114244,\n",
              "  114921,\n",
              "  115600,\n",
              "  116281,\n",
              "  116964,\n",
              "  117649,\n",
              "  118336,\n",
              "  119025,\n",
              "  119716,\n",
              "  120409,\n",
              "  121104,\n",
              "  121801,\n",
              "  122500,\n",
              "  123201,\n",
              "  123904,\n",
              "  124609,\n",
              "  125316,\n",
              "  126025,\n",
              "  126736,\n",
              "  127449,\n",
              "  128164,\n",
              "  128881,\n",
              "  129600,\n",
              "  130321,\n",
              "  131044,\n",
              "  131769,\n",
              "  132496,\n",
              "  133225,\n",
              "  133956,\n",
              "  134689,\n",
              "  135424,\n",
              "  136161,\n",
              "  136900,\n",
              "  137641,\n",
              "  138384,\n",
              "  139129,\n",
              "  139876,\n",
              "  140625,\n",
              "  141376,\n",
              "  142129,\n",
              "  142884,\n",
              "  143641,\n",
              "  144400,\n",
              "  145161,\n",
              "  145924,\n",
              "  146689,\n",
              "  147456,\n",
              "  148225,\n",
              "  148996,\n",
              "  149769,\n",
              "  150544,\n",
              "  151321,\n",
              "  152100,\n",
              "  152881,\n",
              "  153664,\n",
              "  154449,\n",
              "  155236,\n",
              "  156025,\n",
              "  156816,\n",
              "  157609,\n",
              "  158404,\n",
              "  159201,\n",
              "  160000,\n",
              "  160801,\n",
              "  161604,\n",
              "  162409,\n",
              "  163216,\n",
              "  164025,\n",
              "  164836,\n",
              "  165649,\n",
              "  166464,\n",
              "  167281,\n",
              "  168100,\n",
              "  168921,\n",
              "  169744,\n",
              "  170569,\n",
              "  171396,\n",
              "  172225,\n",
              "  173056,\n",
              "  173889,\n",
              "  174724,\n",
              "  175561,\n",
              "  176400,\n",
              "  177241,\n",
              "  178084,\n",
              "  178929,\n",
              "  179776,\n",
              "  180625,\n",
              "  181476,\n",
              "  182329,\n",
              "  183184,\n",
              "  184041,\n",
              "  184900,\n",
              "  185761,\n",
              "  186624,\n",
              "  187489,\n",
              "  188356,\n",
              "  189225,\n",
              "  190096,\n",
              "  190969,\n",
              "  191844,\n",
              "  192721,\n",
              "  193600,\n",
              "  194481,\n",
              "  195364,\n",
              "  196249,\n",
              "  197136,\n",
              "  198025,\n",
              "  198916,\n",
              "  199809,\n",
              "  200704,\n",
              "  201601,\n",
              "  202500,\n",
              "  203401,\n",
              "  204304,\n",
              "  205209,\n",
              "  206116,\n",
              "  207025,\n",
              "  207936,\n",
              "  208849,\n",
              "  209764,\n",
              "  210681,\n",
              "  211600,\n",
              "  212521,\n",
              "  213444,\n",
              "  214369,\n",
              "  215296,\n",
              "  216225,\n",
              "  217156,\n",
              "  218089,\n",
              "  219024,\n",
              "  219961,\n",
              "  220900,\n",
              "  221841,\n",
              "  222784,\n",
              "  223729,\n",
              "  224676,\n",
              "  225625,\n",
              "  226576,\n",
              "  227529,\n",
              "  228484,\n",
              "  229441,\n",
              "  230400,\n",
              "  231361,\n",
              "  232324,\n",
              "  233289,\n",
              "  234256,\n",
              "  235225,\n",
              "  236196,\n",
              "  237169,\n",
              "  238144,\n",
              "  239121,\n",
              "  240100,\n",
              "  241081,\n",
              "  242064,\n",
              "  243049,\n",
              "  244036,\n",
              "  245025,\n",
              "  246016,\n",
              "  247009,\n",
              "  248004,\n",
              "  249001,\n",
              "  250000,\n",
              "  251001,\n",
              "  252004,\n",
              "  253009,\n",
              "  254016,\n",
              "  255025,\n",
              "  256036,\n",
              "  257049,\n",
              "  258064,\n",
              "  259081,\n",
              "  260100,\n",
              "  261121,\n",
              "  262144,\n",
              "  263169,\n",
              "  264196,\n",
              "  265225,\n",
              "  266256,\n",
              "  267289,\n",
              "  268324,\n",
              "  269361,\n",
              "  270400,\n",
              "  271441,\n",
              "  272484,\n",
              "  273529,\n",
              "  274576,\n",
              "  275625,\n",
              "  276676,\n",
              "  277729,\n",
              "  278784,\n",
              "  279841,\n",
              "  280900,\n",
              "  281961,\n",
              "  283024,\n",
              "  284089,\n",
              "  285156,\n",
              "  286225,\n",
              "  287296,\n",
              "  288369,\n",
              "  289444,\n",
              "  290521,\n",
              "  291600,\n",
              "  292681,\n",
              "  293764,\n",
              "  294849,\n",
              "  295936,\n",
              "  297025,\n",
              "  298116,\n",
              "  299209,\n",
              "  300304,\n",
              "  301401,\n",
              "  302500,\n",
              "  303601,\n",
              "  304704,\n",
              "  305809,\n",
              "  306916,\n",
              "  308025,\n",
              "  309136,\n",
              "  310249,\n",
              "  311364,\n",
              "  312481,\n",
              "  313600,\n",
              "  314721,\n",
              "  315844,\n",
              "  316969,\n",
              "  318096,\n",
              "  319225,\n",
              "  320356,\n",
              "  321489,\n",
              "  322624,\n",
              "  323761,\n",
              "  324900,\n",
              "  326041,\n",
              "  327184,\n",
              "  328329,\n",
              "  329476,\n",
              "  330625,\n",
              "  331776,\n",
              "  332929,\n",
              "  334084,\n",
              "  335241,\n",
              "  336400,\n",
              "  337561,\n",
              "  338724,\n",
              "  339889,\n",
              "  341056,\n",
              "  342225,\n",
              "  343396,\n",
              "  344569,\n",
              "  345744,\n",
              "  346921,\n",
              "  348100,\n",
              "  349281,\n",
              "  350464,\n",
              "  351649,\n",
              "  352836,\n",
              "  354025,\n",
              "  355216,\n",
              "  356409,\n",
              "  357604,\n",
              "  358801,\n",
              "  360000,\n",
              "  361201,\n",
              "  362404,\n",
              "  363609,\n",
              "  364816,\n",
              "  366025,\n",
              "  367236,\n",
              "  368449,\n",
              "  369664,\n",
              "  370881,\n",
              "  372100,\n",
              "  373321,\n",
              "  374544,\n",
              "  375769,\n",
              "  376996,\n",
              "  378225,\n",
              "  379456,\n",
              "  380689,\n",
              "  381924,\n",
              "  383161,\n",
              "  384400,\n",
              "  385641,\n",
              "  386884,\n",
              "  388129,\n",
              "  389376,\n",
              "  390625,\n",
              "  391876,\n",
              "  393129,\n",
              "  394384,\n",
              "  395641,\n",
              "  396900,\n",
              "  398161,\n",
              "  399424,\n",
              "  400689,\n",
              "  401956,\n",
              "  403225,\n",
              "  404496,\n",
              "  405769,\n",
              "  407044,\n",
              "  408321,\n",
              "  409600,\n",
              "  410881,\n",
              "  412164,\n",
              "  413449,\n",
              "  414736,\n",
              "  416025,\n",
              "  417316,\n",
              "  418609,\n",
              "  419904,\n",
              "  421201,\n",
              "  422500,\n",
              "  423801,\n",
              "  425104,\n",
              "  426409,\n",
              "  427716,\n",
              "  429025,\n",
              "  430336,\n",
              "  431649,\n",
              "  432964,\n",
              "  434281,\n",
              "  435600,\n",
              "  436921,\n",
              "  438244,\n",
              "  439569,\n",
              "  440896,\n",
              "  442225,\n",
              "  443556,\n",
              "  444889,\n",
              "  446224,\n",
              "  447561,\n",
              "  448900,\n",
              "  450241,\n",
              "  451584,\n",
              "  452929,\n",
              "  454276,\n",
              "  455625,\n",
              "  456976,\n",
              "  458329,\n",
              "  459684,\n",
              "  461041,\n",
              "  462400,\n",
              "  463761,\n",
              "  465124,\n",
              "  466489,\n",
              "  467856,\n",
              "  469225,\n",
              "  470596,\n",
              "  471969,\n",
              "  473344,\n",
              "  474721,\n",
              "  476100,\n",
              "  477481,\n",
              "  478864,\n",
              "  480249,\n",
              "  481636,\n",
              "  483025,\n",
              "  484416,\n",
              "  485809,\n",
              "  487204,\n",
              "  488601,\n",
              "  490000,\n",
              "  491401,\n",
              "  492804,\n",
              "  494209,\n",
              "  495616,\n",
              "  497025,\n",
              "  498436,\n",
              "  499849,\n",
              "  501264,\n",
              "  502681,\n",
              "  504100,\n",
              "  505521,\n",
              "  506944,\n",
              "  508369,\n",
              "  509796,\n",
              "  511225,\n",
              "  512656,\n",
              "  514089,\n",
              "  515524,\n",
              "  516961,\n",
              "  518400,\n",
              "  519841,\n",
              "  521284,\n",
              "  522729,\n",
              "  524176,\n",
              "  525625,\n",
              "  527076,\n",
              "  528529,\n",
              "  529984,\n",
              "  531441,\n",
              "  532900,\n",
              "  534361,\n",
              "  535824,\n",
              "  537289,\n",
              "  538756,\n",
              "  540225,\n",
              "  541696,\n",
              "  543169,\n",
              "  544644,\n",
              "  546121,\n",
              "  547600,\n",
              "  549081,\n",
              "  550564,\n",
              "  552049,\n",
              "  553536,\n",
              "  555025,\n",
              "  556516,\n",
              "  558009,\n",
              "  559504,\n",
              "  561001,\n",
              "  562500,\n",
              "  564001,\n",
              "  565504,\n",
              "  567009,\n",
              "  568516,\n",
              "  570025,\n",
              "  571536,\n",
              "  573049,\n",
              "  574564,\n",
              "  576081,\n",
              "  577600,\n",
              "  579121,\n",
              "  580644,\n",
              "  582169,\n",
              "  583696,\n",
              "  585225,\n",
              "  586756,\n",
              "  588289,\n",
              "  589824,\n",
              "  591361,\n",
              "  592900,\n",
              "  594441,\n",
              "  595984,\n",
              "  597529,\n",
              "  599076,\n",
              "  600625,\n",
              "  602176,\n",
              "  603729,\n",
              "  605284,\n",
              "  606841,\n",
              "  608400,\n",
              "  609961,\n",
              "  611524,\n",
              "  613089,\n",
              "  614656,\n",
              "  616225,\n",
              "  617796,\n",
              "  619369,\n",
              "  620944,\n",
              "  622521,\n",
              "  624100,\n",
              "  625681,\n",
              "  627264,\n",
              "  628849,\n",
              "  630436,\n",
              "  632025,\n",
              "  633616,\n",
              "  635209,\n",
              "  636804,\n",
              "  638401,\n",
              "  640000,\n",
              "  641601,\n",
              "  643204,\n",
              "  644809,\n",
              "  646416,\n",
              "  648025,\n",
              "  649636,\n",
              "  651249,\n",
              "  652864,\n",
              "  654481,\n",
              "  656100,\n",
              "  657721,\n",
              "  659344,\n",
              "  660969,\n",
              "  662596,\n",
              "  664225,\n",
              "  665856,\n",
              "  667489,\n",
              "  669124,\n",
              "  670761,\n",
              "  672400,\n",
              "  674041,\n",
              "  675684,\n",
              "  677329,\n",
              "  678976,\n",
              "  680625,\n",
              "  682276,\n",
              "  683929,\n",
              "  685584,\n",
              "  687241,\n",
              "  688900,\n",
              "  690561,\n",
              "  692224,\n",
              "  693889,\n",
              "  695556,\n",
              "  697225,\n",
              "  698896,\n",
              "  700569,\n",
              "  702244,\n",
              "  703921,\n",
              "  705600,\n",
              "  707281,\n",
              "  708964,\n",
              "  710649,\n",
              "  712336,\n",
              "  714025,\n",
              "  715716,\n",
              "  717409,\n",
              "  719104,\n",
              "  720801,\n",
              "  722500,\n",
              "  724201,\n",
              "  725904,\n",
              "  727609,\n",
              "  729316,\n",
              "  731025,\n",
              "  732736,\n",
              "  734449,\n",
              "  736164,\n",
              "  737881,\n",
              "  739600,\n",
              "  741321,\n",
              "  743044,\n",
              "  744769,\n",
              "  746496,\n",
              "  748225,\n",
              "  749956,\n",
              "  751689,\n",
              "  753424,\n",
              "  755161,\n",
              "  756900,\n",
              "  758641,\n",
              "  760384,\n",
              "  762129,\n",
              "  763876,\n",
              "  765625,\n",
              "  767376,\n",
              "  769129,\n",
              "  770884,\n",
              "  772641,\n",
              "  774400,\n",
              "  776161,\n",
              "  777924,\n",
              "  779689,\n",
              "  781456,\n",
              "  783225,\n",
              "  784996,\n",
              "  786769,\n",
              "  788544,\n",
              "  790321,\n",
              "  792100,\n",
              "  793881,\n",
              "  795664,\n",
              "  797449,\n",
              "  799236,\n",
              "  801025,\n",
              "  802816,\n",
              "  804609,\n",
              "  806404,\n",
              "  808201,\n",
              "  810000,\n",
              "  811801,\n",
              "  813604,\n",
              "  815409,\n",
              "  817216,\n",
              "  819025,\n",
              "  820836,\n",
              "  822649,\n",
              "  824464,\n",
              "  826281,\n",
              "  828100,\n",
              "  829921,\n",
              "  831744,\n",
              "  833569,\n",
              "  835396,\n",
              "  837225,\n",
              "  839056,\n",
              "  840889,\n",
              "  842724,\n",
              "  844561,\n",
              "  846400,\n",
              "  848241,\n",
              "  850084,\n",
              "  851929,\n",
              "  853776,\n",
              "  855625,\n",
              "  857476,\n",
              "  859329,\n",
              "  861184,\n",
              "  863041,\n",
              "  864900,\n",
              "  866761,\n",
              "  868624,\n",
              "  870489,\n",
              "  872356,\n",
              "  874225,\n",
              "  876096,\n",
              "  877969,\n",
              "  879844,\n",
              "  881721,\n",
              "  883600,\n",
              "  885481,\n",
              "  887364,\n",
              "  889249,\n",
              "  891136,\n",
              "  893025,\n",
              "  894916,\n",
              "  896809,\n",
              "  898704,\n",
              "  900601,\n",
              "  902500,\n",
              "  904401,\n",
              "  906304,\n",
              "  908209,\n",
              "  910116,\n",
              "  912025,\n",
              "  913936,\n",
              "  915849,\n",
              "  917764,\n",
              "  919681,\n",
              "  921600,\n",
              "  923521,\n",
              "  925444,\n",
              "  927369,\n",
              "  929296,\n",
              "  931225,\n",
              "  933156,\n",
              "  935089,\n",
              "  937024,\n",
              "  938961,\n",
              "  940900,\n",
              "  942841,\n",
              "  944784,\n",
              "  946729,\n",
              "  948676,\n",
              "  950625,\n",
              "  952576,\n",
              "  954529,\n",
              "  956484,\n",
              "  958441,\n",
              "  960400,\n",
              "  962361,\n",
              "  964324,\n",
              "  966289,\n",
              "  968256,\n",
              "  970225,\n",
              "  972196,\n",
              "  974169,\n",
              "  976144,\n",
              "  978121,\n",
              "  980100,\n",
              "  982081,\n",
              "  984064,\n",
              "  986049,\n",
              "  988036,\n",
              "  990025,\n",
              "  992016,\n",
              "  994009,\n",
              "  996004,\n",
              "  998001,\n",
              "  ...])"
            ]
          },
          "metadata": {},
          "execution_count": 52
        }
      ]
    },
    {
      "cell_type": "code",
      "source": [
        "!pip install memray"
      ],
      "metadata": {
        "colab": {
          "base_uri": "https://localhost:8080/"
        },
        "id": "yPK4TK529C80",
        "outputId": "6d7650fa-72c3-4523-92ee-c088a931422d"
      },
      "execution_count": 53,
      "outputs": [
        {
          "output_type": "stream",
          "name": "stdout",
          "text": [
            "Collecting memray\n",
            "  Downloading memray-1.17.2-cp311-cp311-manylinux_2_17_x86_64.manylinux2014_x86_64.whl.metadata (20 kB)\n",
            "Requirement already satisfied: jinja2>=2.9 in /usr/local/lib/python3.11/dist-packages (from memray) (3.1.6)\n",
            "Requirement already satisfied: rich>=11.2.0 in /usr/local/lib/python3.11/dist-packages (from memray) (13.9.4)\n",
            "Collecting textual>=0.41.0 (from memray)\n",
            "  Downloading textual-3.3.0-py3-none-any.whl.metadata (9.0 kB)\n",
            "Requirement already satisfied: MarkupSafe>=2.0 in /usr/local/lib/python3.11/dist-packages (from jinja2>=2.9->memray) (3.0.2)\n",
            "Requirement already satisfied: markdown-it-py>=2.2.0 in /usr/local/lib/python3.11/dist-packages (from rich>=11.2.0->memray) (3.0.0)\n",
            "Requirement already satisfied: pygments<3.0.0,>=2.13.0 in /usr/local/lib/python3.11/dist-packages (from rich>=11.2.0->memray) (2.19.1)\n",
            "Requirement already satisfied: platformdirs<5,>=3.6.0 in /usr/local/lib/python3.11/dist-packages (from textual>=0.41.0->memray) (4.3.8)\n",
            "Requirement already satisfied: typing-extensions<5.0.0,>=4.4.0 in /usr/local/lib/python3.11/dist-packages (from textual>=0.41.0->memray) (4.13.2)\n",
            "Requirement already satisfied: mdurl~=0.1 in /usr/local/lib/python3.11/dist-packages (from markdown-it-py>=2.2.0->rich>=11.2.0->memray) (0.1.2)\n",
            "Requirement already satisfied: linkify-it-py<3,>=1 in /usr/local/lib/python3.11/dist-packages (from markdown-it-py[linkify,plugins]>=2.1.0->textual>=0.41.0->memray) (2.0.3)\n",
            "Requirement already satisfied: mdit-py-plugins in /usr/local/lib/python3.11/dist-packages (from markdown-it-py[linkify,plugins]>=2.1.0->textual>=0.41.0->memray) (0.4.2)\n",
            "Requirement already satisfied: uc-micro-py in /usr/local/lib/python3.11/dist-packages (from linkify-it-py<3,>=1->markdown-it-py[linkify,plugins]>=2.1.0->textual>=0.41.0->memray) (1.0.3)\n",
            "Downloading memray-1.17.2-cp311-cp311-manylinux_2_17_x86_64.manylinux2014_x86_64.whl (8.3 MB)\n",
            "\u001b[2K   \u001b[90m━━━━━━━━━━━━━━━━━━━━━━━━━━━━━━━━━━━━━━━━\u001b[0m \u001b[32m8.3/8.3 MB\u001b[0m \u001b[31m91.1 MB/s\u001b[0m eta \u001b[36m0:00:00\u001b[0m\n",
            "\u001b[?25hDownloading textual-3.3.0-py3-none-any.whl (687 kB)\n",
            "\u001b[2K   \u001b[90m━━━━━━━━━━━━━━━━━━━━━━━━━━━━━━━━━━━━━━━━\u001b[0m \u001b[32m688.0/688.0 kB\u001b[0m \u001b[31m36.0 MB/s\u001b[0m eta \u001b[36m0:00:00\u001b[0m\n",
            "\u001b[?25hInstalling collected packages: textual, memray\n",
            "Successfully installed memray-1.17.2 textual-3.3.0\n"
          ]
        }
      ]
    },
    {
      "cell_type": "code",
      "source": [
        "import memray\n",
        "import os\n",
        "file_path = \"memory_profiler.bin\"\n",
        "if os.path.exists(file_path):\n",
        "    os.remove(file_path)\n",
        "    print(f\"Removed existing file: {file_path}\")\n",
        "    my_function()"
      ],
      "metadata": {
        "id": "TSKnRw_a9JJ8"
      },
      "execution_count": 65,
      "outputs": []
    },
    {
      "cell_type": "markdown",
      "source": [
        "Write a Python program to create and write a list of numbers to a file, one number per line"
      ],
      "metadata": {
        "id": "I9ibr1ma920g"
      }
    },
    {
      "cell_type": "code",
      "source": [
        "numbers = [1, 2, 3, 4, 5, 6, 7,8]\n",
        "\n",
        "# Open the file in write mode\n",
        "with open('numbers.txt', 'w') as file:\n",
        "    # Iterate through the list and write each number to the file\n",
        "    for number in numbers:\n",
        "        file.write(f\"{number}\\n\")\n",
        "\n",
        "print(\"Numbers have been written to 'numbers.txt'.\")"
      ],
      "metadata": {
        "colab": {
          "base_uri": "https://localhost:8080/"
        },
        "id": "YO6vj8R694Yt",
        "outputId": "cf904e77-64ca-4106-e955-a75706f5d2cc"
      },
      "execution_count": 59,
      "outputs": [
        {
          "output_type": "stream",
          "name": "stdout",
          "text": [
            "Numbers have been written to 'numbers.txt'.\n"
          ]
        }
      ]
    },
    {
      "cell_type": "code",
      "source": [
        "numbers"
      ],
      "metadata": {
        "colab": {
          "base_uri": "https://localhost:8080/"
        },
        "id": "HItcD2u8Ah6W",
        "outputId": "7b4cfa48-609f-443c-e4aa-69d4aa7573f7"
      },
      "execution_count": 62,
      "outputs": [
        {
          "output_type": "execute_result",
          "data": {
            "text/plain": [
              "[1, 2, 3, 4, 5, 6, 7, 8]"
            ]
          },
          "metadata": {},
          "execution_count": 62
        }
      ]
    },
    {
      "cell_type": "markdown",
      "source": [],
      "metadata": {
        "id": "CHztWY37_i8E"
      }
    },
    {
      "cell_type": "markdown",
      "source": [
        "18. How would you implement a basic logging setup that logs to a file with rotation after 1MB?"
      ],
      "metadata": {
        "id": "bB1z60d0DcUS"
      }
    },
    {
      "cell_type": "code",
      "source": [
        "import logging\n",
        "from logging.handlers import RotatingFileHandler\n",
        "\n",
        "# Set up the logger\n",
        "logger = logging.getLogger('my_logger')\n",
        "logger.setLevel(logging.DEBUG)\n",
        "\n",
        "# Create a rotating file handler\n",
        "handler = RotatingFileHandler('my_log.log', maxBytes=1_000_000, backupCount=3)\n",
        "handler.setLevel(logging.DEBUG)\n",
        "\n",
        "# Create a formatter and set it for the handler\n",
        "formatter = logging.Formatter('%(asctime)s - %(levelname)s - %(message)s')\n",
        "handler.setFormatter(formatter)\n",
        "\n",
        "# Add the handler to the logger\n",
        "logger.addHandler(handler)\n",
        "\n",
        "# Log some messages\n",
        "for i in range(100):\n",
        "    logger.debug(f\"Debug message {i}\")\n"
      ],
      "metadata": {
        "colab": {
          "base_uri": "https://localhost:8080/"
        },
        "id": "Lpw-kl_MDfRQ",
        "outputId": "1737460e-8056-406a-d286-4545f17791a8"
      },
      "execution_count": 2,
      "outputs": [
        {
          "output_type": "stream",
          "name": "stderr",
          "text": [
            "DEBUG:my_logger:Debug message 0\n",
            "DEBUG:my_logger:Debug message 1\n",
            "DEBUG:my_logger:Debug message 2\n",
            "DEBUG:my_logger:Debug message 3\n",
            "DEBUG:my_logger:Debug message 4\n",
            "DEBUG:my_logger:Debug message 5\n",
            "DEBUG:my_logger:Debug message 6\n",
            "DEBUG:my_logger:Debug message 7\n",
            "DEBUG:my_logger:Debug message 8\n",
            "DEBUG:my_logger:Debug message 9\n",
            "DEBUG:my_logger:Debug message 10\n",
            "DEBUG:my_logger:Debug message 11\n",
            "DEBUG:my_logger:Debug message 12\n",
            "DEBUG:my_logger:Debug message 13\n",
            "DEBUG:my_logger:Debug message 14\n",
            "DEBUG:my_logger:Debug message 15\n",
            "DEBUG:my_logger:Debug message 16\n",
            "DEBUG:my_logger:Debug message 17\n",
            "DEBUG:my_logger:Debug message 18\n",
            "DEBUG:my_logger:Debug message 19\n",
            "DEBUG:my_logger:Debug message 20\n",
            "DEBUG:my_logger:Debug message 21\n",
            "DEBUG:my_logger:Debug message 22\n",
            "DEBUG:my_logger:Debug message 23\n",
            "DEBUG:my_logger:Debug message 24\n",
            "DEBUG:my_logger:Debug message 25\n",
            "DEBUG:my_logger:Debug message 26\n",
            "DEBUG:my_logger:Debug message 27\n",
            "DEBUG:my_logger:Debug message 28\n",
            "DEBUG:my_logger:Debug message 29\n",
            "DEBUG:my_logger:Debug message 30\n",
            "DEBUG:my_logger:Debug message 31\n",
            "DEBUG:my_logger:Debug message 32\n",
            "DEBUG:my_logger:Debug message 33\n",
            "DEBUG:my_logger:Debug message 34\n",
            "DEBUG:my_logger:Debug message 35\n",
            "DEBUG:my_logger:Debug message 36\n",
            "DEBUG:my_logger:Debug message 37\n",
            "DEBUG:my_logger:Debug message 38\n",
            "DEBUG:my_logger:Debug message 39\n",
            "DEBUG:my_logger:Debug message 40\n",
            "DEBUG:my_logger:Debug message 41\n",
            "DEBUG:my_logger:Debug message 42\n",
            "DEBUG:my_logger:Debug message 43\n",
            "DEBUG:my_logger:Debug message 44\n",
            "DEBUG:my_logger:Debug message 45\n",
            "DEBUG:my_logger:Debug message 46\n",
            "DEBUG:my_logger:Debug message 47\n",
            "DEBUG:my_logger:Debug message 48\n",
            "DEBUG:my_logger:Debug message 49\n",
            "DEBUG:my_logger:Debug message 50\n",
            "DEBUG:my_logger:Debug message 51\n",
            "DEBUG:my_logger:Debug message 52\n",
            "DEBUG:my_logger:Debug message 53\n",
            "DEBUG:my_logger:Debug message 54\n",
            "DEBUG:my_logger:Debug message 55\n",
            "DEBUG:my_logger:Debug message 56\n",
            "DEBUG:my_logger:Debug message 57\n",
            "DEBUG:my_logger:Debug message 58\n",
            "DEBUG:my_logger:Debug message 59\n",
            "DEBUG:my_logger:Debug message 60\n",
            "DEBUG:my_logger:Debug message 61\n",
            "DEBUG:my_logger:Debug message 62\n",
            "DEBUG:my_logger:Debug message 63\n",
            "DEBUG:my_logger:Debug message 64\n",
            "DEBUG:my_logger:Debug message 65\n",
            "DEBUG:my_logger:Debug message 66\n",
            "DEBUG:my_logger:Debug message 67\n",
            "DEBUG:my_logger:Debug message 68\n",
            "DEBUG:my_logger:Debug message 69\n",
            "DEBUG:my_logger:Debug message 70\n",
            "DEBUG:my_logger:Debug message 71\n",
            "DEBUG:my_logger:Debug message 72\n",
            "DEBUG:my_logger:Debug message 73\n",
            "DEBUG:my_logger:Debug message 74\n",
            "DEBUG:my_logger:Debug message 75\n",
            "DEBUG:my_logger:Debug message 76\n",
            "DEBUG:my_logger:Debug message 77\n",
            "DEBUG:my_logger:Debug message 78\n",
            "DEBUG:my_logger:Debug message 79\n",
            "DEBUG:my_logger:Debug message 80\n",
            "DEBUG:my_logger:Debug message 81\n",
            "DEBUG:my_logger:Debug message 82\n",
            "DEBUG:my_logger:Debug message 83\n",
            "DEBUG:my_logger:Debug message 84\n",
            "DEBUG:my_logger:Debug message 85\n",
            "DEBUG:my_logger:Debug message 86\n",
            "DEBUG:my_logger:Debug message 87\n",
            "DEBUG:my_logger:Debug message 88\n",
            "DEBUG:my_logger:Debug message 89\n",
            "DEBUG:my_logger:Debug message 90\n",
            "DEBUG:my_logger:Debug message 91\n",
            "DEBUG:my_logger:Debug message 92\n",
            "DEBUG:my_logger:Debug message 93\n",
            "DEBUG:my_logger:Debug message 94\n",
            "DEBUG:my_logger:Debug message 95\n",
            "DEBUG:my_logger:Debug message 96\n",
            "DEBUG:my_logger:Debug message 97\n",
            "DEBUG:my_logger:Debug message 98\n",
            "DEBUG:my_logger:Debug message 99\n"
          ]
        }
      ]
    },
    {
      "cell_type": "markdown",
      "source": [
        "19.Write a program that handles both IndexError and KeyError using a try-except block?"
      ],
      "metadata": {
        "id": "F6QdZnehLDH-"
      }
    },
    {
      "cell_type": "code",
      "source": [
        "def access_elements():\n",
        "    my_list = ['apple', 'banana', 'cherry']\n",
        "    my_dict = {'name': 'Alice', 'age': 30, 'city': 'New York'}\n",
        "\n",
        "    try:\n",
        "        # Attempt to access an element by index\n",
        "        print(\"Accessing list element at index 2:\")\n",
        "        print(my_list[2])  # This will raise IndexError\n",
        "\n",
        "        # Attempt to access a dictionary key\n",
        "        print(\"\\nAccessing dictionary value for key 'address':\")\n",
        "        print(my_dict['address'])  # This will raise KeyError\n",
        "\n",
        "    except IndexError:\n",
        "        print(\"\\nError: List index out of range.\")\n",
        "\n",
        "    except KeyError:\n",
        "        print(\"\\nError: Key not found in dictionary.\")\n",
        "\n",
        "# Call the function\n",
        "access_elements()"
      ],
      "metadata": {
        "colab": {
          "base_uri": "https://localhost:8080/"
        },
        "id": "C5DC3m4pLZae",
        "outputId": "cedecffa-8d97-4167-9c5d-52ce101f638c"
      },
      "execution_count": 4,
      "outputs": [
        {
          "output_type": "stream",
          "name": "stdout",
          "text": [
            "Accessing list element at index 2:\n",
            "cherry\n",
            "\n",
            "Accessing dictionary value for key 'address':\n",
            "\n",
            "Error: Key not found in dictionary.\n"
          ]
        }
      ]
    },
    {
      "cell_type": "markdown",
      "source": [
        "20.How would you open a file and read its contents using a context manager in Python?"
      ],
      "metadata": {
        "id": "RmN9dJVkLsrl"
      }
    },
    {
      "cell_type": "code",
      "source": [
        "with open('Name.txt', 'r') as file:\n",
        "    content = file.read()\n",
        "    print(content)\n",
        "try:\n",
        "    with open('Silki.txt', 'r') as file:\n",
        "        content = file.read()\n",
        "        print(content)\n",
        "except FileNotFoundError:\n",
        "    print(\"Error: The file does not exist.\")\n",
        "except IOError:\n",
        "    print(\"Error: An I/O error occurred.\")\n"
      ],
      "metadata": {
        "colab": {
          "base_uri": "https://localhost:8080/"
        },
        "id": "zPGHG6ZmLx1u",
        "outputId": "cbb202c8-7888-4f9d-9027-29c22c16f408"
      },
      "execution_count": 7,
      "outputs": [
        {
          "output_type": "stream",
          "name": "stdout",
          "text": [
            "Hello, World!Silki Sharma\n",
            "\n",
            "Error: The file does not exist.\n"
          ]
        }
      ]
    },
    {
      "cell_type": "markdown",
      "source": [
        "21.Write a Python program that reads a file and prints the number of occurrences of a specific word?"
      ],
      "metadata": {
        "id": "io8UjcpbMBtY"
      }
    },
    {
      "cell_type": "code",
      "source": [
        "def count_word_in_file(filename, target_word):\n",
        "    try:\n",
        "        with open(filename, 'r') as file:\n",
        "            content = file.read()\n",
        "        count = content.count(target_word)\n",
        "        return count\n",
        "    except FileNotFoundError:\n",
        "        print(f\"The file '{filename}' does not exist.\")\n",
        "        return None\n",
        "\n",
        "# Example usage\n",
        "filename = 'Name.txt'\n",
        "target_word = 'Silki'\n",
        "occurrences = count_word_in_file(filename, target_word)\n",
        "\n",
        "if occurrences is not None:\n",
        "    print(f\"The word '{target_word}' appears {occurrences} times in '{filename}'.\")"
      ],
      "metadata": {
        "colab": {
          "base_uri": "https://localhost:8080/"
        },
        "id": "ZVbqGbJpMSDf",
        "outputId": "075e8ca8-141f-49c9-dfb4-7349954b64be"
      },
      "execution_count": 18,
      "outputs": [
        {
          "output_type": "stream",
          "name": "stdout",
          "text": [
            "The word 'Silki' appears 1 times in 'Name.txt'.\n"
          ]
        }
      ]
    },
    {
      "cell_type": "markdown",
      "source": [
        "How can you check if a file is empty before attempting to read its contents?"
      ],
      "metadata": {
        "id": "P8buy2apNHGv"
      }
    },
    {
      "cell_type": "code",
      "source": [
        "import os\n",
        "\n",
        "file_path = 'Name.txt'\n",
        "\n",
        "try:\n",
        "    with open(file_path, 'rb') as file:\n",
        "        file.seek(0, os.SEEK_END)\n",
        "        if file.tell() == 0:\n",
        "            print(\"The file is empty.\")\n",
        "        else:\n",
        "            print(\"The file is not empty.\")\n",
        "except FileNotFoundError:\n",
        "    print(\"The file does not exist.\")\n",
        "except Exception as e:\n",
        "    print(f\"An unexpected error occurred: {e}\")"
      ],
      "metadata": {
        "colab": {
          "base_uri": "https://localhost:8080/"
        },
        "id": "DKQOE53tbolh",
        "outputId": "e6f13100-c2e7-427b-9d0b-d22cf5755d76"
      },
      "execution_count": 23,
      "outputs": [
        {
          "output_type": "stream",
          "name": "stdout",
          "text": [
            "The file is not empty.\n"
          ]
        }
      ]
    },
    {
      "cell_type": "markdown",
      "source": [
        "23. Write a Python program that writes to a log file when an error occurs during file handling?"
      ],
      "metadata": {
        "id": "fixRoTPMb7SR"
      }
    },
    {
      "cell_type": "code",
      "source": [
        "import logging\n",
        "\n",
        "# Configure logging\n",
        "logging.basicConfig(\n",
        "    filename='file_errors.log',\n",
        "    level=logging.ERROR,\n",
        "    format='%(asctime)s - %(levelname)s - %(message)s'\n",
        ")\n",
        "\n",
        "def read_file(file_path):\n",
        "    try:\n",
        "        with open(file_path, 'r') as file:\n",
        "            content = file.read()\n",
        "            print(content)\n",
        "    except Exception as e:\n",
        "        logging.error(f\"Error occurred while reading the file '{file_path}': {e}\")\n",
        "\n",
        "# Example usage\n",
        "read_file('non_existent_file.txt')"
      ],
      "metadata": {
        "colab": {
          "base_uri": "https://localhost:8080/"
        },
        "id": "ahtSqNIsc1Bf",
        "outputId": "39cfdd35-2a6a-4a37-b4ca-6c23dd44e915"
      },
      "execution_count": 24,
      "outputs": [
        {
          "output_type": "stream",
          "name": "stderr",
          "text": [
            "ERROR:root:Error occurred while reading the file 'non_existent_file.txt': [Errno 2] No such file or directory: 'non_existent_file.txt'\n"
          ]
        }
      ]
    },
    {
      "cell_type": "markdown",
      "source": [],
      "metadata": {
        "id": "ZKnfx0i-beM4"
      }
    }
  ]
}